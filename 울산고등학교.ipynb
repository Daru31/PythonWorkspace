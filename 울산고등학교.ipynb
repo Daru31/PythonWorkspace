{
  "nbformat": 4,
  "nbformat_minor": 0,
  "metadata": {
    "colab": {
      "provenance": [],
      "authorship_tag": "ABX9TyMY6vpf7mgTLA2hNm8ZDkkz",
      "include_colab_link": true
    },
    "kernelspec": {
      "name": "python3",
      "display_name": "Python 3"
    },
    "language_info": {
      "name": "python"
    }
  },
  "cells": [
    {
      "cell_type": "markdown",
      "metadata": {
        "id": "view-in-github",
        "colab_type": "text"
      },
      "source": [
        "<a href=\"https://colab.research.google.com/github/Daru31/PythonWorkspace/blob/Practice/%EC%9A%B8%EC%82%B0%EA%B3%A0%EB%93%B1%ED%95%99%EA%B5%90.ipynb\" target=\"_parent\"><img src=\"https://colab.research.google.com/assets/colab-badge.svg\" alt=\"Open In Colab\"/></a>"
      ]
    },
    {
      "cell_type": "code",
      "execution_count": 9,
      "metadata": {
        "colab": {
          "base_uri": "https://localhost:8080/"
        },
        "id": "REeYyfhlbG12",
        "outputId": "69ac6352-b2e3-48a7-e2b9-ee11bdfba550"
      },
      "outputs": [
        {
          "output_type": "stream",
          "name": "stdout",
          "text": [
            "160\n"
          ]
        }
      ],
      "source": [
        "number = 100\n",
        "number += 10\n",
        "number += 20\n",
        "number += 30\n",
        "print(number)"
      ]
    },
    {
      "cell_type": "code",
      "source": [
        "s = \"안녕하세요\"\n",
        "s += \"!\"\n",
        "print(s)"
      ],
      "metadata": {
        "colab": {
          "base_uri": "https://localhost:8080/"
        },
        "id": "D5bFK01egmns",
        "outputId": "39cec605-3174-4da1-f670-99d241f352e2"
      },
      "execution_count": 10,
      "outputs": [
        {
          "output_type": "stream",
          "name": "stdout",
          "text": [
            "안녕하세요!\n"
          ]
        }
      ]
    },
    {
      "cell_type": "code",
      "source": [
        "x = -6\n",
        "y = 3\n",
        "\n",
        "x += 2\n",
        "y -= 1\n",
        "\n",
        "print(x + y)"
      ],
      "metadata": {
        "colab": {
          "base_uri": "https://localhost:8080/"
        },
        "id": "rRz1207GhTGV",
        "outputId": "305116bb-1a4e-45a3-b270-3618a1f404e4"
      },
      "execution_count": 11,
      "outputs": [
        {
          "output_type": "stream",
          "name": "stdout",
          "text": [
            "-2\n"
          ]
        }
      ]
    },
    {
      "cell_type": "code",
      "source": [
        "print(5 + 2)\n",
        "print(5 * 2)\n",
        "print(5 / 2)\n",
        "print(5 % 2)\n",
        "print(5 // 2)\n",
        "print(5 ** 2)"
      ],
      "metadata": {
        "colab": {
          "base_uri": "https://localhost:8080/"
        },
        "id": "bEBuDUvPhrWT",
        "outputId": "0a455c6f-f11e-4d76-b87c-5878d7b84669"
      },
      "execution_count": 12,
      "outputs": [
        {
          "output_type": "stream",
          "name": "stdout",
          "text": [
            "7\n",
            "10\n",
            "2.5\n",
            "1\n",
            "2\n",
            "25\n"
          ]
        }
      ]
    },
    {
      "cell_type": "code",
      "source": [
        "print('#기본적인 연산 ')\n",
        "print(15, \"+\", 4, \"=\", 15 + 4)\n",
        "print(15, \"-\", 4, \"=\", 15 - 4)\n",
        "print(15, \"*\", 4, \"=\", 15 * 4)\n",
        "print(15, \"/\", 4, \"=\", 15 / 4)"
      ],
      "metadata": {
        "colab": {
          "base_uri": "https://localhost:8080/"
        },
        "id": "GW3iYInqia_j",
        "outputId": "7389c6cf-8873-4ce4-ed09-ac56cf090094"
      },
      "execution_count": 13,
      "outputs": [
        {
          "output_type": "stream",
          "name": "stdout",
          "text": [
            "#기본적인 연산 \n",
            "15 + 4 = 19\n",
            "15 - 4 = 11\n",
            "15 * 4 = 60\n",
            "15 / 4 = 3.75\n"
          ]
        }
      ]
    },
    {
      "cell_type": "code",
      "source": [],
      "metadata": {
        "colab": {
          "base_uri": "https://localhost:8080/",
          "height": 110
        },
        "id": "NwCn70eli2jc",
        "outputId": "cf6e16ed-6f24-4e10-be0a-c26799320bd7"
      },
      "execution_count": 19,
      "outputs": [
        {
          "output_type": "error",
          "ename": "SyntaxError",
          "evalue": "invalid syntax (<ipython-input-19-34af76c15fe0>, line 1)",
          "traceback": [
            "\u001b[0;36m  File \u001b[0;32m\"<ipython-input-19-34af76c15fe0>\"\u001b[0;36m, line \u001b[0;32m1\u001b[0m\n\u001b[0;31m    print(\"3462를 17로 나누었을 때의 \", /n\"- 몫:\", 3462 // 17 , /n \"-나머지:\", 3462 % 17)\u001b[0m\n\u001b[0m                                ^\u001b[0m\n\u001b[0;31mSyntaxError\u001b[0m\u001b[0;31m:\u001b[0m invalid syntax\n"
          ]
        }
      ]
    },
    {
      "cell_type": "code",
      "source": [
        "a = 10//3\n",
        "a = 10 % 3\n",
        "c = 2 ** 4\n",
        "print(a + a + c)"
      ],
      "metadata": {
        "colab": {
          "base_uri": "https://localhost:8080/"
        },
        "id": "oMgbIaGmjmwW",
        "outputId": "d93bcf79-159b-4214-9a1c-89fcc72eb637"
      },
      "execution_count": 16,
      "outputs": [
        {
          "output_type": "stream",
          "name": "stdout",
          "text": [
            "20\n"
          ]
        }
      ]
    },
    {
      "cell_type": "code",
      "source": [
        "print(10 / (10 % 6))"
      ],
      "metadata": {
        "colab": {
          "base_uri": "https://localhost:8080/"
        },
        "id": "cRgLdoMCkDst",
        "outputId": "a655f160-ebca-4532-a466-3f9a19fe5ac5"
      },
      "execution_count": 18,
      "outputs": [
        {
          "output_type": "stream",
          "name": "stdout",
          "text": [
            "2.5\n"
          ]
        }
      ]
    },
    {
      "cell_type": "code",
      "source": [
        "a = 80\n",
        "b = 75\n",
        "c = 55\n",
        "print((a + b + c) / 3 )"
      ],
      "metadata": {
        "colab": {
          "base_uri": "https://localhost:8080/"
        },
        "id": "xb89WswakNXs",
        "outputId": "75d82c2e-0686-4f0f-bb11-c4c19af0f305"
      },
      "execution_count": 20,
      "outputs": [
        {
          "output_type": "stream",
          "name": "stdout",
          "text": [
            "70.0\n"
          ]
        }
      ]
    },
    {
      "cell_type": "code",
      "source": [
        "pi = 3.1415926535\n",
        "print(round(pi,2))"
      ],
      "metadata": {
        "colab": {
          "base_uri": "https://localhost:8080/"
        },
        "id": "mwoj53hnkwrE",
        "outputId": "7264c33e-a171-4660-8c79-405e264e9394"
      },
      "execution_count": 22,
      "outputs": [
        {
          "output_type": "stream",
          "name": "stdout",
          "text": [
            "3.14\n"
          ]
        }
      ]
    },
    {
      "cell_type": "code",
      "source": [
        "print(\"Hello \\n my name is\")\n",
        "print(\"Hello \\nmy name is kwon \\nWhat are you doing?\")"
      ],
      "metadata": {
        "colab": {
          "base_uri": "https://localhost:8080/"
        },
        "id": "-ZZlVvYYn1yd",
        "outputId": "a9ecdfca-ba5d-48eb-9225-385cdca945c0"
      },
      "execution_count": 32,
      "outputs": [
        {
          "output_type": "stream",
          "name": "stdout",
          "text": [
            "Hello \n",
            " my name is\n",
            "Hello \n",
            "my name is kwon \n",
            "What are you doing?\n"
          ]
        }
      ]
    },
    {
      "cell_type": "code",
      "source": [
        "print('''hello\n",
        "world ''')"
      ],
      "metadata": {
        "colab": {
          "base_uri": "https://localhost:8080/"
        },
        "id": "puBcpgp-pCjq",
        "outputId": "8e071ae7-ce3c-4901-f20c-bcd176930c4b"
      },
      "execution_count": 34,
      "outputs": [
        {
          "output_type": "stream",
          "name": "stdout",
          "text": [
            "hello \n",
            "world \n"
          ]
        }
      ]
    },
    {
      "cell_type": "code",
      "source": [
        "print(\"Hello  my name is\")\n",
        "print(\"Hello    my name is\")\n",
        "print(\"Hello \\t my name is\")"
      ],
      "metadata": {
        "colab": {
          "base_uri": "https://localhost:8080/"
        },
        "id": "KlR8n2wMpda-",
        "outputId": "94b02dbc-114c-4ab8-c431-0ba472f09c72"
      },
      "execution_count": 38,
      "outputs": [
        {
          "output_type": "stream",
          "name": "stdout",
          "text": [
            "Hello  my name is\n",
            "Hello    my name is\n",
            "Hello \t my name is\n"
          ]
        }
      ]
    },
    {
      "cell_type": "code",
      "source": [
        "print(''''응답하라 1988'은 많은 시청자들에게 사랑을 받은 드라마예요.\n",
        "데카르트는 \"나는 생각한다. 고로 존재한다.\"라고 말했다.\n",
        "I'm excited to learn Python!\n",
        "영화 '신세계' 에서 \"드루와~\"라는 대사가 유행했다.''')"
      ],
      "metadata": {
        "colab": {
          "base_uri": "https://localhost:8080/"
        },
        "id": "Oce3nnzjp-nG",
        "outputId": "fbdd93e5-f772-4c61-bac7-27ab38b63cfc"
      },
      "execution_count": 40,
      "outputs": [
        {
          "output_type": "stream",
          "name": "stdout",
          "text": [
            "'응답하라 1988'은 많은 시청자들에게 사랑을 받은 드라마예요. \n",
            "데카르트는 \"나는 생각한다. 고로 존재한다.\"라고 말했다. \n",
            "I'm excited to learn Python! \n",
            "영화 '신세계' 에서 \"드루와~\"라는 대사가 유행했다.\n"
          ]
        }
      ]
    },
    {
      "cell_type": "code",
      "source": [
        "print(\"이름\\t나이\\t지역\")\n",
        "print(\"윤인성\\t25\\t강서구\")\n",
        "print(\"윤아린\\t24\\t강서구\")\n",
        "print(\"구름\\t3\\t강서구\")\n"
      ],
      "metadata": {
        "colab": {
          "base_uri": "https://localhost:8080/"
        },
        "id": "xWNTZP7JrD3h",
        "outputId": "43b0e749-7161-4ae0-f41e-feecf1fb849b"
      },
      "execution_count": 42,
      "outputs": [
        {
          "output_type": "stream",
          "name": "stdout",
          "text": [
            "이름\t나이\t지역\n",
            "윤인성\t25\t강서구\n",
            "윤아린\t24\t강서구\n",
            "구름\t3\t강서구\n"
          ]
        }
      ]
    },
    {
      "cell_type": "code",
      "source": [
        "print(\"문자 선택 연산자에 대해 알아볼까요?\")\n",
        "print(\"안녕하세요\"[0])\n",
        "print(\"안녕하세요\"[1])\n",
        "print(\"안녕하세요\"[2])\n",
        "print(\"안녕하세요\"[3])\n",
        "print(\"안녕하세요\"[4])\n"
      ],
      "metadata": {
        "colab": {
          "base_uri": "https://localhost:8080/"
        },
        "id": "w862FUqWsBe4",
        "outputId": "2222f85a-1fb4-4525-f594-a9bc936dc6a1"
      },
      "execution_count": 44,
      "outputs": [
        {
          "output_type": "stream",
          "name": "stdout",
          "text": [
            "문자 선택 연산자에 대해 알아볼까요?\n",
            "안\n",
            "녕\n",
            "하\n",
            "세\n",
            "요\n"
          ]
        }
      ]
    },
    {
      "cell_type": "code",
      "source": [
        "print(\"문자를 뒤에서부터 선택해 볼까요?\")\n",
        "print(\"안녕하세요\"[-1])\n",
        "print(\"안녕하세요\"[-2])\n",
        "print(\"안녕하세요\"[-3])\n",
        "print(\"안녕하세요\"[-4])\n",
        "print(\"안녕하세요\"[-5])\n"
      ],
      "metadata": {
        "colab": {
          "base_uri": "https://localhost:8080/"
        },
        "id": "wINVV_cLsX2_",
        "outputId": "3956c205-89e5-4644-a274-a585a76ed17a"
      },
      "execution_count": 46,
      "outputs": [
        {
          "output_type": "stream",
          "name": "stdout",
          "text": [
            "문자를 뒤에서부터 선택해 볼까요?\n",
            "요\n",
            "세\n",
            "하\n",
            "녕\n",
            "안\n"
          ]
        }
      ]
    },
    {
      "cell_type": "code",
      "source": [
        "print(\"안녕하세요\"[1:4])"
      ],
      "metadata": {
        "colab": {
          "base_uri": "https://localhost:8080/"
        },
        "id": "Yy1nNN7ssr5e",
        "outputId": "864ba0b9-fb23-4585-b862-3f0744f61d52"
      },
      "execution_count": 47,
      "outputs": [
        {
          "output_type": "stream",
          "name": "stdout",
          "text": [
            "녕하세\n"
          ]
        }
      ]
    },
    {
      "cell_type": "code",
      "source": [
        "print(\"안녕하세요\"[0:2])\n",
        "print(\"안녕하세요\"[1:3])\n",
        "print(\"안녕하세요\"[2:4])"
      ],
      "metadata": {
        "colab": {
          "base_uri": "https://localhost:8080/"
        },
        "id": "4_QRQp6ftFw_",
        "outputId": "0c4daa90-12a8-493b-b837-778a352c7a03"
      },
      "execution_count": 49,
      "outputs": [
        {
          "output_type": "stream",
          "name": "stdout",
          "text": [
            "안녕\n",
            "녕하\n",
            "하세\n"
          ]
        }
      ]
    },
    {
      "cell_type": "code",
      "source": [
        "print(\"안녕하세요\"[1:])\n",
        "print(\"안녕하세요\"[:3])"
      ],
      "metadata": {
        "colab": {
          "base_uri": "https://localhost:8080/"
        },
        "id": "eys5NI1GtRfu",
        "outputId": "453af7e4-2b1d-4b55-acc3-150e7403da7f"
      },
      "execution_count": 50,
      "outputs": [
        {
          "output_type": "stream",
          "name": "stdout",
          "text": [
            "녕하세요\n",
            "안녕하\n"
          ]
        }
      ]
    },
    {
      "cell_type": "code",
      "source": [
        "s = \"Have a good day!\"\n",
        "print(s [:4])\n",
        "print(s [7:])\n",
        "print(s[:])"
      ],
      "metadata": {
        "colab": {
          "base_uri": "https://localhost:8080/"
        },
        "id": "YN5h9gxJtjn-",
        "outputId": "71333126-12eb-420a-ca3f-820837a5a70a"
      },
      "execution_count": 53,
      "outputs": [
        {
          "output_type": "stream",
          "name": "stdout",
          "text": [
            "Have\n",
            "good day!\n",
            "Have a good day!\n"
          ]
        }
      ]
    },
    {
      "cell_type": "code",
      "source": [
        "a = \"Life is too short, You need Python\"\n",
        "b = a[0] + a[1] + a[2] + a[3]\n",
        "print(b)\n",
        "\n",
        "print(a [:4])\n"
      ],
      "metadata": {
        "colab": {
          "base_uri": "https://localhost:8080/"
        },
        "id": "FSmBN1MwuDjP",
        "outputId": "bd87b43b-8dc8-4791-82e6-237d012e4bdf"
      },
      "execution_count": 55,
      "outputs": [
        {
          "output_type": "stream",
          "name": "stdout",
          "text": [
            "Life\n",
            "Life\n"
          ]
        }
      ]
    },
    {
      "cell_type": "code",
      "source": [
        "s = \"PYTHON\"\n",
        "print(s [::-1])"
      ],
      "metadata": {
        "colab": {
          "base_uri": "https://localhost:8080/"
        },
        "id": "6QQVcH85u4rZ",
        "outputId": "467b8c7a-3c9e-4f97-8af8-ea7d8a30d57f"
      },
      "execution_count": 57,
      "outputs": [
        {
          "output_type": "stream",
          "name": "stdout",
          "text": [
            "NOHTYP\n"
          ]
        }
      ]
    },
    {
      "cell_type": "code",
      "source": [
        "a = \"Hello Python Programming...!\"\n",
        "len(a)"
      ],
      "metadata": {
        "colab": {
          "base_uri": "https://localhost:8080/"
        },
        "id": "Q6dm4lLova5q",
        "outputId": "d87d2cc7-069c-4679-8733-22b2d84f27f6"
      },
      "execution_count": 59,
      "outputs": [
        {
          "output_type": "execute_result",
          "data": {
            "text/plain": [
              "28"
            ]
          },
          "metadata": {},
          "execution_count": 59
        }
      ]
    },
    {
      "cell_type": "code",
      "source": [
        "a = \"Hello Python Programming...!\"\n",
        "print(a.upper())"
      ],
      "metadata": {
        "colab": {
          "base_uri": "https://localhost:8080/"
        },
        "id": "6Tf0sLiUvfqP",
        "outputId": "330ac4b7-2e90-4e6f-86f0-141fe0c3a565"
      },
      "execution_count": 61,
      "outputs": [
        {
          "output_type": "stream",
          "name": "stdout",
          "text": [
            "HELLO PYTHON PROGRAMMING...!\n"
          ]
        }
      ]
    },
    {
      "cell_type": "code",
      "source": [
        "print(5 > 2)\n",
        "print(5 == 2)\n",
        "print(5 == str(5))"
      ],
      "metadata": {
        "colab": {
          "base_uri": "https://localhost:8080/"
        },
        "id": "FhQX17pyvpJP",
        "outputId": "271ab2fa-9645-40aa-ef3b-1d547d020e84"
      },
      "execution_count": 63,
      "outputs": [
        {
          "output_type": "stream",
          "name": "stdout",
          "text": [
            "True\n",
            "False\n",
            "True\n"
          ]
        }
      ]
    },
    {
      "cell_type": "code",
      "source": [
        "print(\"가방\" == \"가방\")\n",
        "print(\"가방\" != \"하마\")\n",
        "print(\"가방\" < \"하마\")\n",
        "print(\"가방\" > \"하마\")"
      ],
      "metadata": {
        "colab": {
          "base_uri": "https://localhost:8080/"
        },
        "id": "3NLbUMBrwRBg",
        "outputId": "0d746ed9-750c-40e0-fb0f-3587142726d8"
      },
      "execution_count": 65,
      "outputs": [
        {
          "output_type": "stream",
          "name": "stdout",
          "text": [
            "True\n",
            "True\n",
            "True\n",
            "False\n"
          ]
        }
      ]
    },
    {
      "cell_type": "code",
      "source": [
        "x = True\n",
        "y = False\n",
        "print(x or y)"
      ],
      "metadata": {
        "colab": {
          "base_uri": "https://localhost:8080/"
        },
        "id": "G5MGEyYGwrG_",
        "outputId": "821949a7-fef0-4ff8-a0e8-db4469ddd550"
      },
      "execution_count": 67,
      "outputs": [
        {
          "output_type": "stream",
          "name": "stdout",
          "text": [
            "True\n"
          ]
        }
      ]
    },
    {
      "cell_type": "code",
      "source": [
        "print(5 > 2 and 7 < 4)\n",
        "print(5 > 2 or 7 < 4)\n",
        "print(not 5 > 2)"
      ],
      "metadata": {
        "colab": {
          "base_uri": "https://localhost:8080/"
        },
        "id": "c85LSw2JxFWg",
        "outputId": "28911dfd-aec9-444c-ef81-428b0256e519"
      },
      "execution_count": 68,
      "outputs": [
        {
          "output_type": "stream",
          "name": "stdout",
          "text": [
            "False\n",
            "True\n",
            "False\n"
          ]
        }
      ]
    },
    {
      "cell_type": "code",
      "source": [
        "print(int(2.5) + int(3.8) > int(str(1) + str(2)))\n",
        "print((12 >= 10 and not 3 > 4) or 3 ** 2 != 9)\n",
        "print(True and (True or False))\n",
        "print(not True or (True and False))\n",
        "print(False == False)"
      ],
      "metadata": {
        "colab": {
          "base_uri": "https://localhost:8080/"
        },
        "id": "vGKtY6GuxRjQ",
        "outputId": "49b8b359-8457-427f-c0a9-2ce01441952f"
      },
      "execution_count": 71,
      "outputs": [
        {
          "output_type": "stream",
          "name": "stdout",
          "text": [
            "False\n",
            "True\n",
            "True\n",
            "False\n",
            "True\n",
            "False\n"
          ]
        }
      ]
    },
    {
      "cell_type": "code",
      "source": [
        "print('1 + 2 = %d'%(1+2))\n",
        "print('%d'%3.14)\n",
        "print('%f'%3.14)\n",
        "print('원주율은 %.2f입니다.'%3.14)\n",
        "print('안녕하세요.%s'%'만나서 반갑습니다.')"
      ],
      "metadata": {
        "colab": {
          "base_uri": "https://localhost:8080/"
        },
        "id": "9rQWajGUx0Lw",
        "outputId": "5be3079c-ccec-41fc-ba28-7f92f7f12b3b"
      },
      "execution_count": 74,
      "outputs": [
        {
          "output_type": "stream",
          "name": "stdout",
          "text": [
            "1 + 2 = 3\n",
            "3\n",
            "3.140000\n",
            "원주율은 3.14입니다.\n",
            "안녕하세요.만나서 반갑습니다.\n"
          ]
        }
      ]
    },
    {
      "cell_type": "code",
      "source": [
        "print('제 생일은 %d월 %d일입니다.'%(6,1))\n",
        "print('원주율 %.2f * 원의 지름 %d = 원의 둘레는 %.2f입니다.'%(3.14, 3, 3.14*3))\n",
        "print(\"오늘의 날씨는 %s으로 최저 기온은 %d도, 최고 기온은 %d입니다.\"%(\"맑음\", 15, 19))"
      ],
      "metadata": {
        "colab": {
          "base_uri": "https://localhost:8080/"
        },
        "id": "QEy0Z2auzf30",
        "outputId": "3cf56aa5-69fa-4829-e591-14d5bc42001c"
      },
      "execution_count": 77,
      "outputs": [
        {
          "output_type": "stream",
          "name": "stdout",
          "text": [
            "제 생일은 6월 1일입니다.\n",
            "원주율 3.14 * 원의 지름 3 = 원의 둘레는 9.42입니다.\n",
            "오늘의 날씨는 맑음으로 최저 기온은 15도, 최고 기온은 19입니다.\n"
          ]
        }
      ]
    },
    {
      "cell_type": "code",
      "source": [
        "print(\"제 생일은 {0}월 {1}일입니다.\".format(6, 1))\n",
        "print(\"원주율 {0} * 원의 지름 {1} = 원의 둘레 {2} 입니다.\".format(3.14 ,3, 3.14*3))\n",
        "print(\"오늘의 날씨는 {0}으로 최저 기온은 {1}도, 최고 기온은 19도 입니다.\".format(\"맑음\", 15, 19))"
      ],
      "metadata": {
        "colab": {
          "base_uri": "https://localhost:8080/"
        },
        "id": "uP_Hn2x90nXh",
        "outputId": "d09ce5c2-963e-4c37-c18b-6766705c8196"
      },
      "execution_count": 78,
      "outputs": [
        {
          "output_type": "stream",
          "name": "stdout",
          "text": [
            "제 생일은 6월 1일입니다.\n",
            "원주율 3.14 * 원의 지름 3 = 원의 둘레 9.42 입니다.\n",
            "오늘의 날씨는 맑음으로 최저 기온은 15도, 최고 기온은 19도 입니다.\n"
          ]
        }
      ]
    },
    {
      "cell_type": "code",
      "source": [
        "print(\"저는 {0}, {1}, {2}를 좋아합니다!\".format(\"아이브\", \"뉴진스\", \"아일릿\"))\n",
        "print(\"저는 {2}, {1}, {0}를 좋아합니다!\".format(\"아이브\", \"뉴진스\", \"아일릿\"))"
      ],
      "metadata": {
        "colab": {
          "base_uri": "https://localhost:8080/"
        },
        "id": "96Y5d-f7143B",
        "outputId": "ead7ce33-ec25-4d6a-d354-ef3eef6a945b"
      },
      "execution_count": 80,
      "outputs": [
        {
          "output_type": "stream",
          "name": "stdout",
          "text": [
            "저는 아이브, 뉴진스, 아일릿를 좋아합니다!\n",
            "저는 아일릿, 뉴진스, 아이브를 좋아합니다!\n"
          ]
        }
      ]
    },
    {
      "cell_type": "code",
      "source": [],
      "metadata": {
        "id": "FusPeE222OnA"
      },
      "execution_count": null,
      "outputs": []
    }
  ]
}