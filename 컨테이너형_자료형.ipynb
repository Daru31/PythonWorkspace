{
  "nbformat": 4,
  "nbformat_minor": 0,
  "metadata": {
    "colab": {
      "provenance": [],
      "toc_visible": true,
      "authorship_tag": "ABX9TyPl1l+uox0fV8qXz2te757D",
      "include_colab_link": true
    },
    "kernelspec": {
      "name": "python3",
      "display_name": "Python 3"
    },
    "language_info": {
      "name": "python"
    }
  },
  "cells": [
    {
      "cell_type": "markdown",
      "metadata": {
        "id": "view-in-github",
        "colab_type": "text"
      },
      "source": [
        "<a href=\"https://colab.research.google.com/github/Daru31/PythonWorkspace/blob/master/%EC%BB%A8%ED%85%8C%EC%9D%B4%EB%84%88%ED%98%95_%EC%9E%90%EB%A3%8C%ED%98%95.ipynb\" target=\"_parent\"><img src=\"https://colab.research.google.com/assets/colab-badge.svg\" alt=\"Open In Colab\"/></a>"
      ]
    },
    {
      "cell_type": "code",
      "execution_count": null,
      "metadata": {
        "colab": {
          "base_uri": "https://localhost:8080/"
        },
        "id": "REeYyfhlbG12",
        "outputId": "69ac6352-b2e3-48a7-e2b9-ee11bdfba550"
      },
      "outputs": [
        {
          "output_type": "stream",
          "name": "stdout",
          "text": [
            "160\n"
          ]
        }
      ],
      "source": [
        "number = 100\n",
        "number += 10\n",
        "number += 20\n",
        "number += 30\n",
        "print(number)"
      ]
    },
    {
      "cell_type": "code",
      "source": [
        "s = \"안녕하세요\"\n",
        "s += \"!\"\n",
        "print(s)"
      ],
      "metadata": {
        "colab": {
          "base_uri": "https://localhost:8080/"
        },
        "id": "D5bFK01egmns",
        "outputId": "39cec605-3174-4da1-f670-99d241f352e2"
      },
      "execution_count": null,
      "outputs": [
        {
          "output_type": "stream",
          "name": "stdout",
          "text": [
            "안녕하세요!\n"
          ]
        }
      ]
    },
    {
      "cell_type": "code",
      "source": [
        "x = -6\n",
        "y = 3\n",
        "\n",
        "x += 2\n",
        "y -= 1\n",
        "\n",
        "print(x + y)"
      ],
      "metadata": {
        "colab": {
          "base_uri": "https://localhost:8080/"
        },
        "id": "rRz1207GhTGV",
        "outputId": "305116bb-1a4e-45a3-b270-3618a1f404e4"
      },
      "execution_count": null,
      "outputs": [
        {
          "output_type": "stream",
          "name": "stdout",
          "text": [
            "-2\n"
          ]
        }
      ]
    },
    {
      "cell_type": "code",
      "source": [
        "print(5 + 2)\n",
        "print(5 * 2)\n",
        "print(5 / 2)\n",
        "print(5 % 2)\n",
        "print(5 // 2)\n",
        "print(5 ** 2)"
      ],
      "metadata": {
        "colab": {
          "base_uri": "https://localhost:8080/"
        },
        "id": "bEBuDUvPhrWT",
        "outputId": "0a455c6f-f11e-4d76-b87c-5878d7b84669"
      },
      "execution_count": null,
      "outputs": [
        {
          "output_type": "stream",
          "name": "stdout",
          "text": [
            "7\n",
            "10\n",
            "2.5\n",
            "1\n",
            "2\n",
            "25\n"
          ]
        }
      ]
    },
    {
      "cell_type": "code",
      "source": [
        "print('#기본적인 연산 ')\n",
        "print(15, \"+\", 4, \"=\", 15 + 4)\n",
        "print(15, \"-\", 4, \"=\", 15 - 4)\n",
        "print(15, \"*\", 4, \"=\", 15 * 4)\n",
        "print(15, \"/\", 4, \"=\", 15 / 4)"
      ],
      "metadata": {
        "colab": {
          "base_uri": "https://localhost:8080/"
        },
        "id": "GW3iYInqia_j",
        "outputId": "7389c6cf-8873-4ce4-ed09-ac56cf090094"
      },
      "execution_count": null,
      "outputs": [
        {
          "output_type": "stream",
          "name": "stdout",
          "text": [
            "#기본적인 연산 \n",
            "15 + 4 = 19\n",
            "15 - 4 = 11\n",
            "15 * 4 = 60\n",
            "15 / 4 = 3.75\n"
          ]
        }
      ]
    },
    {
      "cell_type": "code",
      "source": [],
      "metadata": {
        "colab": {
          "base_uri": "https://localhost:8080/",
          "height": 110
        },
        "id": "NwCn70eli2jc",
        "outputId": "cf6e16ed-6f24-4e10-be0a-c26799320bd7"
      },
      "execution_count": null,
      "outputs": [
        {
          "output_type": "error",
          "ename": "SyntaxError",
          "evalue": "invalid syntax (<ipython-input-19-34af76c15fe0>, line 1)",
          "traceback": [
            "\u001b[0;36m  File \u001b[0;32m\"<ipython-input-19-34af76c15fe0>\"\u001b[0;36m, line \u001b[0;32m1\u001b[0m\n\u001b[0;31m    print(\"3462를 17로 나누었을 때의 \", /n\"- 몫:\", 3462 // 17 , /n \"-나머지:\", 3462 % 17)\u001b[0m\n\u001b[0m                                ^\u001b[0m\n\u001b[0;31mSyntaxError\u001b[0m\u001b[0;31m:\u001b[0m invalid syntax\n"
          ]
        }
      ]
    },
    {
      "cell_type": "code",
      "source": [
        "a = 10//3\n",
        "a = 10 % 3\n",
        "c = 2 ** 4\n",
        "print(a + a + c)"
      ],
      "metadata": {
        "colab": {
          "base_uri": "https://localhost:8080/"
        },
        "id": "oMgbIaGmjmwW",
        "outputId": "d93bcf79-159b-4214-9a1c-89fcc72eb637"
      },
      "execution_count": null,
      "outputs": [
        {
          "output_type": "stream",
          "name": "stdout",
          "text": [
            "20\n"
          ]
        }
      ]
    },
    {
      "cell_type": "code",
      "source": [
        "print(10 / (10 % 6))"
      ],
      "metadata": {
        "colab": {
          "base_uri": "https://localhost:8080/"
        },
        "id": "cRgLdoMCkDst",
        "outputId": "a655f160-ebca-4532-a466-3f9a19fe5ac5"
      },
      "execution_count": null,
      "outputs": [
        {
          "output_type": "stream",
          "name": "stdout",
          "text": [
            "2.5\n"
          ]
        }
      ]
    },
    {
      "cell_type": "code",
      "source": [
        "a = 80\n",
        "b = 75\n",
        "c = 55\n",
        "print((a + b + c) / 3 )"
      ],
      "metadata": {
        "colab": {
          "base_uri": "https://localhost:8080/"
        },
        "id": "xb89WswakNXs",
        "outputId": "75d82c2e-0686-4f0f-bb11-c4c19af0f305"
      },
      "execution_count": null,
      "outputs": [
        {
          "output_type": "stream",
          "name": "stdout",
          "text": [
            "70.0\n"
          ]
        }
      ]
    },
    {
      "cell_type": "code",
      "source": [
        "pi = 3.1415926535\n",
        "print(round(pi,2))"
      ],
      "metadata": {
        "colab": {
          "base_uri": "https://localhost:8080/"
        },
        "id": "mwoj53hnkwrE",
        "outputId": "7264c33e-a171-4660-8c79-405e264e9394"
      },
      "execution_count": null,
      "outputs": [
        {
          "output_type": "stream",
          "name": "stdout",
          "text": [
            "3.14\n"
          ]
        }
      ]
    },
    {
      "cell_type": "code",
      "source": [
        "print(\"Hello \\n my name is\")\n",
        "print(\"Hello \\nmy name is kwon \\nWhat are you doing?\")"
      ],
      "metadata": {
        "colab": {
          "base_uri": "https://localhost:8080/"
        },
        "id": "-ZZlVvYYn1yd",
        "outputId": "a9ecdfca-ba5d-48eb-9225-385cdca945c0"
      },
      "execution_count": null,
      "outputs": [
        {
          "output_type": "stream",
          "name": "stdout",
          "text": [
            "Hello \n",
            " my name is\n",
            "Hello \n",
            "my name is kwon \n",
            "What are you doing?\n"
          ]
        }
      ]
    },
    {
      "cell_type": "code",
      "source": [
        "print('''hello\n",
        "world ''')"
      ],
      "metadata": {
        "colab": {
          "base_uri": "https://localhost:8080/"
        },
        "id": "puBcpgp-pCjq",
        "outputId": "8e071ae7-ce3c-4901-f20c-bcd176930c4b"
      },
      "execution_count": null,
      "outputs": [
        {
          "output_type": "stream",
          "name": "stdout",
          "text": [
            "hello \n",
            "world \n"
          ]
        }
      ]
    },
    {
      "cell_type": "code",
      "source": [
        "print(\"Hello  my name is\")\n",
        "print(\"Hello    my name is\")\n",
        "print(\"Hello \\t my name is\")"
      ],
      "metadata": {
        "colab": {
          "base_uri": "https://localhost:8080/"
        },
        "id": "KlR8n2wMpda-",
        "outputId": "94b02dbc-114c-4ab8-c431-0ba472f09c72"
      },
      "execution_count": null,
      "outputs": [
        {
          "output_type": "stream",
          "name": "stdout",
          "text": [
            "Hello  my name is\n",
            "Hello    my name is\n",
            "Hello \t my name is\n"
          ]
        }
      ]
    },
    {
      "cell_type": "code",
      "source": [
        "print(''''응답하라 1988'은 많은 시청자들에게 사랑을 받은 드라마예요.\n",
        "데카르트는 \"나는 생각한다. 고로 존재한다.\"라고 말했다.\n",
        "I'm excited to learn Python!\n",
        "영화 '신세계' 에서 \"드루와~\"라는 대사가 유행했다.''')"
      ],
      "metadata": {
        "colab": {
          "base_uri": "https://localhost:8080/"
        },
        "id": "Oce3nnzjp-nG",
        "outputId": "fbdd93e5-f772-4c61-bac7-27ab38b63cfc"
      },
      "execution_count": null,
      "outputs": [
        {
          "output_type": "stream",
          "name": "stdout",
          "text": [
            "'응답하라 1988'은 많은 시청자들에게 사랑을 받은 드라마예요. \n",
            "데카르트는 \"나는 생각한다. 고로 존재한다.\"라고 말했다. \n",
            "I'm excited to learn Python! \n",
            "영화 '신세계' 에서 \"드루와~\"라는 대사가 유행했다.\n"
          ]
        }
      ]
    },
    {
      "cell_type": "code",
      "source": [
        "print(\"이름\\t나이\\t지역\")\n",
        "print(\"윤인성\\t25\\t강서구\")\n",
        "print(\"윤아린\\t24\\t강서구\")\n",
        "print(\"구름\\t3\\t강서구\")\n"
      ],
      "metadata": {
        "colab": {
          "base_uri": "https://localhost:8080/"
        },
        "id": "xWNTZP7JrD3h",
        "outputId": "43b0e749-7161-4ae0-f41e-feecf1fb849b"
      },
      "execution_count": null,
      "outputs": [
        {
          "output_type": "stream",
          "name": "stdout",
          "text": [
            "이름\t나이\t지역\n",
            "윤인성\t25\t강서구\n",
            "윤아린\t24\t강서구\n",
            "구름\t3\t강서구\n"
          ]
        }
      ]
    },
    {
      "cell_type": "code",
      "source": [
        "print(\"문자 선택 연산자에 대해 알아볼까요?\")\n",
        "print(\"안녕하세요\"[0])\n",
        "print(\"안녕하세요\"[1])\n",
        "print(\"안녕하세요\"[2])\n",
        "print(\"안녕하세요\"[3])\n",
        "print(\"안녕하세요\"[4])\n"
      ],
      "metadata": {
        "colab": {
          "base_uri": "https://localhost:8080/"
        },
        "id": "w862FUqWsBe4",
        "outputId": "2222f85a-1fb4-4525-f594-a9bc936dc6a1"
      },
      "execution_count": null,
      "outputs": [
        {
          "output_type": "stream",
          "name": "stdout",
          "text": [
            "문자 선택 연산자에 대해 알아볼까요?\n",
            "안\n",
            "녕\n",
            "하\n",
            "세\n",
            "요\n"
          ]
        }
      ]
    },
    {
      "cell_type": "code",
      "source": [
        "print(\"문자를 뒤에서부터 선택해 볼까요?\")\n",
        "print(\"안녕하세요\"[-1])\n",
        "print(\"안녕하세요\"[-2])\n",
        "print(\"안녕하세요\"[-3])\n",
        "print(\"안녕하세요\"[-4])\n",
        "print(\"안녕하세요\"[-5])\n"
      ],
      "metadata": {
        "colab": {
          "base_uri": "https://localhost:8080/"
        },
        "id": "wINVV_cLsX2_",
        "outputId": "3956c205-89e5-4644-a274-a585a76ed17a"
      },
      "execution_count": null,
      "outputs": [
        {
          "output_type": "stream",
          "name": "stdout",
          "text": [
            "문자를 뒤에서부터 선택해 볼까요?\n",
            "요\n",
            "세\n",
            "하\n",
            "녕\n",
            "안\n"
          ]
        }
      ]
    },
    {
      "cell_type": "code",
      "source": [
        "print(\"안녕하세요\"[1:4])"
      ],
      "metadata": {
        "colab": {
          "base_uri": "https://localhost:8080/"
        },
        "id": "Yy1nNN7ssr5e",
        "outputId": "864ba0b9-fb23-4585-b862-3f0744f61d52"
      },
      "execution_count": null,
      "outputs": [
        {
          "output_type": "stream",
          "name": "stdout",
          "text": [
            "녕하세\n"
          ]
        }
      ]
    },
    {
      "cell_type": "code",
      "source": [
        "print(\"안녕하세요\"[0:2])\n",
        "print(\"안녕하세요\"[1:3])\n",
        "print(\"안녕하세요\"[2:4])"
      ],
      "metadata": {
        "colab": {
          "base_uri": "https://localhost:8080/"
        },
        "id": "4_QRQp6ftFw_",
        "outputId": "0c4daa90-12a8-493b-b837-778a352c7a03"
      },
      "execution_count": null,
      "outputs": [
        {
          "output_type": "stream",
          "name": "stdout",
          "text": [
            "안녕\n",
            "녕하\n",
            "하세\n"
          ]
        }
      ]
    },
    {
      "cell_type": "code",
      "source": [
        "print(\"안녕하세요\"[1:])\n",
        "print(\"안녕하세요\"[:3])"
      ],
      "metadata": {
        "colab": {
          "base_uri": "https://localhost:8080/"
        },
        "id": "eys5NI1GtRfu",
        "outputId": "453af7e4-2b1d-4b55-acc3-150e7403da7f"
      },
      "execution_count": null,
      "outputs": [
        {
          "output_type": "stream",
          "name": "stdout",
          "text": [
            "녕하세요\n",
            "안녕하\n"
          ]
        }
      ]
    },
    {
      "cell_type": "code",
      "source": [
        "s = \"Have a good day!\"\n",
        "print(s [:4])\n",
        "print(s [7:])\n",
        "print(s[:])"
      ],
      "metadata": {
        "colab": {
          "base_uri": "https://localhost:8080/"
        },
        "id": "YN5h9gxJtjn-",
        "outputId": "71333126-12eb-420a-ca3f-820837a5a70a"
      },
      "execution_count": null,
      "outputs": [
        {
          "output_type": "stream",
          "name": "stdout",
          "text": [
            "Have\n",
            "good day!\n",
            "Have a good day!\n"
          ]
        }
      ]
    },
    {
      "cell_type": "code",
      "source": [
        "a = \"Life is too short, You need Python\"\n",
        "b = a[0] + a[1] + a[2] + a[3]\n",
        "print(b)\n",
        "\n",
        "print(a [:4])\n"
      ],
      "metadata": {
        "colab": {
          "base_uri": "https://localhost:8080/"
        },
        "id": "FSmBN1MwuDjP",
        "outputId": "bd87b43b-8dc8-4791-82e6-237d012e4bdf"
      },
      "execution_count": null,
      "outputs": [
        {
          "output_type": "stream",
          "name": "stdout",
          "text": [
            "Life\n",
            "Life\n"
          ]
        }
      ]
    },
    {
      "cell_type": "code",
      "source": [
        "s = \"PYTHON\"\n",
        "print(s [::-1])"
      ],
      "metadata": {
        "colab": {
          "base_uri": "https://localhost:8080/"
        },
        "id": "6QQVcH85u4rZ",
        "outputId": "467b8c7a-3c9e-4f97-8af8-ea7d8a30d57f"
      },
      "execution_count": null,
      "outputs": [
        {
          "output_type": "stream",
          "name": "stdout",
          "text": [
            "NOHTYP\n"
          ]
        }
      ]
    },
    {
      "cell_type": "code",
      "source": [
        "a = \"Hello Python Programming...!\"\n",
        "len(a)"
      ],
      "metadata": {
        "colab": {
          "base_uri": "https://localhost:8080/"
        },
        "id": "Q6dm4lLova5q",
        "outputId": "d87d2cc7-069c-4679-8733-22b2d84f27f6"
      },
      "execution_count": null,
      "outputs": [
        {
          "output_type": "execute_result",
          "data": {
            "text/plain": [
              "28"
            ]
          },
          "metadata": {},
          "execution_count": 59
        }
      ]
    },
    {
      "cell_type": "code",
      "source": [
        "a = \"Hello Python Programming...!\"\n",
        "print(a.upper())"
      ],
      "metadata": {
        "colab": {
          "base_uri": "https://localhost:8080/"
        },
        "id": "6Tf0sLiUvfqP",
        "outputId": "330ac4b7-2e90-4e6f-86f0-141fe0c3a565"
      },
      "execution_count": null,
      "outputs": [
        {
          "output_type": "stream",
          "name": "stdout",
          "text": [
            "HELLO PYTHON PROGRAMMING...!\n"
          ]
        }
      ]
    },
    {
      "cell_type": "code",
      "source": [
        "print(5 > 2)\n",
        "print(5 == 2)\n",
        "print(5 == str(5))"
      ],
      "metadata": {
        "colab": {
          "base_uri": "https://localhost:8080/"
        },
        "id": "FhQX17pyvpJP",
        "outputId": "271ab2fa-9645-40aa-ef3b-1d547d020e84"
      },
      "execution_count": null,
      "outputs": [
        {
          "output_type": "stream",
          "name": "stdout",
          "text": [
            "True\n",
            "False\n",
            "True\n"
          ]
        }
      ]
    },
    {
      "cell_type": "code",
      "source": [
        "print(\"가방\" == \"가방\")\n",
        "print(\"가방\" != \"하마\")\n",
        "print(\"가방\" < \"하마\")\n",
        "print(\"가방\" > \"하마\")"
      ],
      "metadata": {
        "colab": {
          "base_uri": "https://localhost:8080/"
        },
        "id": "3NLbUMBrwRBg",
        "outputId": "0d746ed9-750c-40e0-fb0f-3587142726d8"
      },
      "execution_count": null,
      "outputs": [
        {
          "output_type": "stream",
          "name": "stdout",
          "text": [
            "True\n",
            "True\n",
            "True\n",
            "False\n"
          ]
        }
      ]
    },
    {
      "cell_type": "code",
      "source": [
        "x = True\n",
        "y = False\n",
        "print(x or y)"
      ],
      "metadata": {
        "colab": {
          "base_uri": "https://localhost:8080/"
        },
        "id": "G5MGEyYGwrG_",
        "outputId": "821949a7-fef0-4ff8-a0e8-db4469ddd550"
      },
      "execution_count": null,
      "outputs": [
        {
          "output_type": "stream",
          "name": "stdout",
          "text": [
            "True\n"
          ]
        }
      ]
    },
    {
      "cell_type": "code",
      "source": [
        "print(5 > 2 and 7 < 4)\n",
        "print(5 > 2 or 7 < 4)\n",
        "print(not 5 > 2)"
      ],
      "metadata": {
        "colab": {
          "base_uri": "https://localhost:8080/"
        },
        "id": "c85LSw2JxFWg",
        "outputId": "28911dfd-aec9-444c-ef81-428b0256e519"
      },
      "execution_count": null,
      "outputs": [
        {
          "output_type": "stream",
          "name": "stdout",
          "text": [
            "False\n",
            "True\n",
            "False\n"
          ]
        }
      ]
    },
    {
      "cell_type": "code",
      "source": [
        "print(int(2.5) + int(3.8) > int(str(1) + str(2)))\n",
        "print((12 >= 10 and not 3 > 4) or 3 ** 2 != 9)\n",
        "print(True and (True or False))\n",
        "print(not True or (True and False))\n",
        "print(False == False)"
      ],
      "metadata": {
        "colab": {
          "base_uri": "https://localhost:8080/"
        },
        "id": "vGKtY6GuxRjQ",
        "outputId": "49b8b359-8457-427f-c0a9-2ce01441952f"
      },
      "execution_count": null,
      "outputs": [
        {
          "output_type": "stream",
          "name": "stdout",
          "text": [
            "False\n",
            "True\n",
            "True\n",
            "False\n",
            "True\n",
            "False\n"
          ]
        }
      ]
    },
    {
      "cell_type": "code",
      "source": [
        "print('1 + 2 = %d'%(1+2))\n",
        "print('%d'%3.14)\n",
        "print('%f'%3.14)\n",
        "print('원주율은 %.2f입니다.'%3.14)\n",
        "print('안녕하세요.%s'%'만나서 반갑습니다.')"
      ],
      "metadata": {
        "colab": {
          "base_uri": "https://localhost:8080/"
        },
        "id": "9rQWajGUx0Lw",
        "outputId": "5be3079c-ccec-41fc-ba28-7f92f7f12b3b"
      },
      "execution_count": null,
      "outputs": [
        {
          "output_type": "stream",
          "name": "stdout",
          "text": [
            "1 + 2 = 3\n",
            "3\n",
            "3.140000\n",
            "원주율은 3.14입니다.\n",
            "안녕하세요.만나서 반갑습니다.\n"
          ]
        }
      ]
    },
    {
      "cell_type": "code",
      "source": [
        "print('제 생일은 %d월 %d일입니다.'%(6,1))\n",
        "print('원주율 %.2f * 원의 지름 %d = 원의 둘레는 %.2f입니다.'%(3.14, 3, 3.14*3))\n",
        "print(\"오늘의 날씨는 %s으로 최저 기온은 %d도, 최고 기온은 %d입니다.\"%(\"맑음\", 15, 19))"
      ],
      "metadata": {
        "colab": {
          "base_uri": "https://localhost:8080/"
        },
        "id": "QEy0Z2auzf30",
        "outputId": "3cf56aa5-69fa-4829-e591-14d5bc42001c"
      },
      "execution_count": null,
      "outputs": [
        {
          "output_type": "stream",
          "name": "stdout",
          "text": [
            "제 생일은 6월 1일입니다.\n",
            "원주율 3.14 * 원의 지름 3 = 원의 둘레는 9.42입니다.\n",
            "오늘의 날씨는 맑음으로 최저 기온은 15도, 최고 기온은 19입니다.\n"
          ]
        }
      ]
    },
    {
      "cell_type": "code",
      "source": [
        "print(\"제 생일은 {0}월 {1}일입니다.\".format(6, 1))\n",
        "print(\"원주율 {0} * 원의 지름 {1} = 원의 둘레 {2} 입니다.\".format(3.14 ,3, 3.14*3))\n",
        "print(\"오늘의 날씨는 {0}으로 최저 기온은 {1}도, 최고 기온은 19도 입니다.\".format(\"맑음\", 15, 19))"
      ],
      "metadata": {
        "colab": {
          "base_uri": "https://localhost:8080/"
        },
        "id": "uP_Hn2x90nXh",
        "outputId": "d09ce5c2-963e-4c37-c18b-6766705c8196"
      },
      "execution_count": null,
      "outputs": [
        {
          "output_type": "stream",
          "name": "stdout",
          "text": [
            "제 생일은 6월 1일입니다.\n",
            "원주율 3.14 * 원의 지름 3 = 원의 둘레 9.42 입니다.\n",
            "오늘의 날씨는 맑음으로 최저 기온은 15도, 최고 기온은 19도 입니다.\n"
          ]
        }
      ]
    },
    {
      "cell_type": "code",
      "source": [
        "print(\"저는 {0}, {1}, {2}를 좋아합니다!\".format(\"아이브\", \"뉴진스\", \"아일릿\"))\n",
        "print(\"저는 {2}, {1}, {0}를 좋아합니다!\".format(\"아이브\", \"뉴진스\", \"아일릿\"))"
      ],
      "metadata": {
        "colab": {
          "base_uri": "https://localhost:8080/"
        },
        "id": "96Y5d-f7143B",
        "outputId": "ead7ce33-ec25-4d6a-d354-ef3eef6a945b"
      },
      "execution_count": null,
      "outputs": [
        {
          "output_type": "stream",
          "name": "stdout",
          "text": [
            "저는 아이브, 뉴진스, 아일릿를 좋아합니다!\n",
            "저는 아일릿, 뉴진스, 아이브를 좋아합니다!\n"
          ]
        }
      ]
    },
    {
      "cell_type": "code",
      "source": [
        "name = \"권민석\"\n",
        "age = 18\n",
        "eyesight = 1.2\n",
        "\n",
        "a = \"이름 : {}\".format(name)\n",
        "b = \"나이 : {}세\".format(age)\n",
        "c = \"시력 : {}\".format(eyesight)\n",
        "\n",
        "print(a)\n",
        "print(b)\n",
        "print(c)\n"
      ],
      "metadata": {
        "id": "P-H3oYLz5lJM",
        "outputId": "df3dc476-b901-4b4e-ec9f-28595ea808b7",
        "colab": {
          "base_uri": "https://localhost:8080/"
        }
      },
      "execution_count": null,
      "outputs": [
        {
          "output_type": "stream",
          "name": "stdout",
          "text": [
            "이름 : 권민석\n",
            "나이 : 18세\n",
            "시력 : 1.2\n"
          ]
        }
      ]
    },
    {
      "cell_type": "code",
      "source": [
        "a = \"{} 주세요.\".format(\"핫초코\")\n",
        "b = \"커피 {0}잔, 녹차 {1}잔\".format(2, 3)\n",
        "c = \"오렌지 {a}개, 바나나 {b}개\".format(a=3, b=5)\n",
        "\n",
        "print(a)\n",
        "print(b)\n",
        "print(c)\n",
        "\n"
      ],
      "metadata": {
        "colab": {
          "base_uri": "https://localhost:8080/"
        },
        "id": "4dgI0MUf7AnN",
        "outputId": "6dd9338b-f05b-43d4-d8bc-71dd4f8c0227"
      },
      "execution_count": null,
      "outputs": [
        {
          "output_type": "stream",
          "name": "stdout",
          "text": [
            "핫초코 주세요.\n",
            "커피 2잔, 녹차 3잔\n",
            "오렌지 3개, 바나나 5개\n"
          ]
        }
      ]
    },
    {
      "cell_type": "code",
      "source": [
        "x = 10\n",
        "y = 20\n",
        "\n",
        "print(f\"{x} + {y}는 {x + y}입니다.\")"
      ],
      "metadata": {
        "colab": {
          "base_uri": "https://localhost:8080/"
        },
        "id": "HAbHSHf88IgM",
        "outputId": "ddbc8db2-2851-4dc7-f1d3-ecc7086e297b"
      },
      "execution_count": null,
      "outputs": [
        {
          "output_type": "stream",
          "name": "stdout",
          "text": [
            "10 + 20는 30입니다.\n"
          ]
        }
      ]
    },
    {
      "cell_type": "code",
      "source": [
        "name1 = \"김민수\"\n",
        "age1 = 17\n",
        "name2 = \"이용주\"\n",
        "age2 = 15\n",
        "print(\"이름 : %s 나이: %d\" % (name1, age1))\n",
        "print(\"이름: {0} 나이: {1}\".format(name2, age2))\n"
      ],
      "metadata": {
        "colab": {
          "base_uri": "https://localhost:8080/"
        },
        "id": "WTuSIM2A9T98",
        "outputId": "bce887c9-d1cc-4c13-a0b1-79f6532189df"
      },
      "execution_count": null,
      "outputs": [
        {
          "output_type": "stream",
          "name": "stdout",
          "text": [
            "이름 : 김민수 나이: 17\n",
            "이름: 이용주 나이: 15\n"
          ]
        }
      ]
    },
    {
      "cell_type": "code",
      "source": [
        "input(\"이름을 입력하세요.\")"
      ],
      "metadata": {
        "colab": {
          "base_uri": "https://localhost:8080/",
          "height": 54
        },
        "id": "mmhcPovz93DM",
        "outputId": "6fc69dc9-814b-4e2d-da89-1f0830fd97cf"
      },
      "execution_count": null,
      "outputs": [
        {
          "name": "stdout",
          "output_type": "stream",
          "text": [
            "이름을 입력하세요.권민석\n"
          ]
        },
        {
          "output_type": "execute_result",
          "data": {
            "text/plain": [
              "'권민석'"
            ],
            "application/vnd.google.colaboratory.intrinsic+json": {
              "type": "string"
            }
          },
          "metadata": {},
          "execution_count": 15
        }
      ]
    },
    {
      "cell_type": "code",
      "source": [
        "s = input(\"인사말을 입력하세요> \")\n",
        "print(s)"
      ],
      "metadata": {
        "colab": {
          "base_uri": "https://localhost:8080/"
        },
        "id": "20-i4_5a_lN6",
        "outputId": "3abaf212-722e-45fe-a54d-c6d58bbe7c67"
      },
      "execution_count": null,
      "outputs": [
        {
          "output_type": "stream",
          "name": "stdout",
          "text": [
            "인사말을 입력하세요> 보이루\n",
            "보이루\n"
          ]
        }
      ]
    },
    {
      "cell_type": "code",
      "source": [
        "print(type(3))\n",
        "print(type(3.0))\n",
        "print(type(\"3\"))\n",
        "print(type(\"True\"))\n",
        "print(type(True))"
      ],
      "metadata": {
        "colab": {
          "base_uri": "https://localhost:8080/"
        },
        "id": "6uKxUP0R_3-a",
        "outputId": "f917a972-3c2e-4228-d2ff-f6be01755771"
      },
      "execution_count": null,
      "outputs": [
        {
          "output_type": "stream",
          "name": "stdout",
          "text": [
            "<class 'int'>\n",
            "<class 'float'>\n",
            "<class 'str'>\n",
            "<class 'str'>\n",
            "<class 'bool'>\n"
          ]
        }
      ]
    },
    {
      "cell_type": "code",
      "source": [
        "number = (input(\"숫자를 입력하세요\"))\n",
        "print(int(number) + 100)"
      ],
      "metadata": {
        "colab": {
          "base_uri": "https://localhost:8080/"
        },
        "id": "bvyy9Z0RAbW6",
        "outputId": "ae885fdd-6de1-44d0-f172-3fa807759fbe"
      },
      "execution_count": null,
      "outputs": [
        {
          "output_type": "stream",
          "name": "stdout",
          "text": [
            "숫자를 입력하세요10\n",
            "110\n"
          ]
        }
      ]
    },
    {
      "cell_type": "code",
      "source": [
        "string_a = input('입력A>')\n",
        "int_a = int(string_a)\n",
        "\n",
        "string_b = input(\"입력B>\")\n",
        "int_b = int(string_b)\n",
        "\n",
        "print(\"문자열 자료:\", string_a + string_b)\n",
        "print(\"숫자 자료:\", int_a + int_b)"
      ],
      "metadata": {
        "colab": {
          "base_uri": "https://localhost:8080/"
        },
        "id": "_K-yYXkCA-UK",
        "outputId": "2ed0bcdf-162d-46c4-bd95-2bdeded7eb00"
      },
      "execution_count": null,
      "outputs": [
        {
          "output_type": "stream",
          "name": "stdout",
          "text": [
            "입력A>273\n",
            "입력B>52\n",
            "문자열 자료: 27352\n",
            "숫자 자료: 325\n"
          ]
        }
      ]
    },
    {
      "cell_type": "code",
      "source": [
        "data = \"15.38\"\n",
        "print(float(data))"
      ],
      "metadata": {
        "colab": {
          "base_uri": "https://localhost:8080/"
        },
        "id": "c_RA-GwaCAqp",
        "outputId": "7ba11c31-5e31-47d6-a468-e4023992d686"
      },
      "execution_count": null,
      "outputs": [
        {
          "output_type": "stream",
          "name": "stdout",
          "text": [
            "15.38\n"
          ]
        }
      ]
    },
    {
      "cell_type": "code",
      "source": [
        "year = \"2024\"\n",
        "print(int(year) - 1)\n",
        "print(int(year) - 2)\n",
        "print(int(year) - 3)\n"
      ],
      "metadata": {
        "colab": {
          "base_uri": "https://localhost:8080/"
        },
        "id": "uWw54GyTDAOp",
        "outputId": "72df22fb-38ac-4b8d-cb75-51b767df9263"
      },
      "execution_count": null,
      "outputs": [
        {
          "output_type": "stream",
          "name": "stdout",
          "text": [
            "2023\n",
            "2022\n",
            "2021\n"
          ]
        }
      ]
    },
    {
      "cell_type": "code",
      "source": [
        "print(2 ** 3.0)\n",
        "print(int(\"3\") + float(\"5\"))\n",
        "print(str(4.0) * 2)\n",
        "print(float(int(42 / 5)))\n",
        "print(2 * (3 + 1))"
      ],
      "metadata": {
        "colab": {
          "base_uri": "https://localhost:8080/"
        },
        "id": "CNGDJoxXDTKY",
        "outputId": "682d214d-e8d4-414a-ddc4-b752f2b0dd8e"
      },
      "execution_count": null,
      "outputs": [
        {
          "output_type": "stream",
          "name": "stdout",
          "text": [
            "8.0\n",
            "8.0\n",
            "4.04.0\n",
            "8.0\n",
            "8\n"
          ]
        }
      ]
    },
    {
      "cell_type": "code",
      "source": [
        "birth_month = 6\n",
        "birth_day = 1\n",
        "print(\"나의 생일은 \" + str(birth_month) + \"월 \" + str(birth_day) + \"일이다.\")"
      ],
      "metadata": {
        "colab": {
          "base_uri": "https://localhost:8080/"
        },
        "id": "Y9_IhcyxGmKX",
        "outputId": "89d5530e-eb39-45ca-d428-aa651aa0b9cf"
      },
      "execution_count": null,
      "outputs": [
        {
          "output_type": "stream",
          "name": "stdout",
          "text": [
            "나의 생일은 6월 1일이다.\n"
          ]
        }
      ]
    },
    {
      "cell_type": "code",
      "source": [
        "print(int(2.5) + int(3.8) > int(str(1) + str(2)))\n",
        "print((12 >= 10 and not 3 > 4) or 3 ** 2 != 9)\n",
        "print(True and (True or False))\n",
        "print(not True or (True and False))\n",
        "print(False == False)"
      ],
      "metadata": {
        "colab": {
          "base_uri": "https://localhost:8080/"
        },
        "id": "FMxEABiOHaO4",
        "outputId": "c22aaf38-48fa-4aa2-9e9f-10b3f6948b7b"
      },
      "execution_count": null,
      "outputs": [
        {
          "output_type": "stream",
          "name": "stdout",
          "text": [
            "False\n",
            "True\n",
            "True\n",
            "False\n",
            "True\n"
          ]
        }
      ]
    },
    {
      "cell_type": "code",
      "source": [
        "total = 254\n",
        "min = total // 60\n",
        "sec = total % 60\n",
        "print(total, \"초는\", min, \"분\", sec, \"초입니다.\")\n"
      ],
      "metadata": {
        "colab": {
          "base_uri": "https://localhost:8080/"
        },
        "id": "cklpIw82JFb3",
        "outputId": "e7c462ad-b2b1-4dad-bbca-0cb9205d4230"
      },
      "execution_count": null,
      "outputs": [
        {
          "output_type": "stream",
          "name": "stdout",
          "text": [
            "254 초는 4 분 14 초입니다.\n"
          ]
        }
      ]
    },
    {
      "cell_type": "code",
      "source": [
        "a = input(\"> 1번째 숫자 : \")\n",
        "b = input(\"> 2번째 숫자 : \")\n",
        "print()\n",
        "\n",
        "print(\"{} + {} = {}\".format((a), (b), int(a) + int(b)))"
      ],
      "metadata": {
        "colab": {
          "base_uri": "https://localhost:8080/"
        },
        "id": "jgJLk7LxKUsY",
        "outputId": "5433d555-a515-4607-ba9f-249d25b930ad"
      },
      "execution_count": null,
      "outputs": [
        {
          "output_type": "stream",
          "name": "stdout",
          "text": [
            "> 1번째 숫자 : 100\n",
            "> 2번째 숫자 : 200\n",
            "\n",
            "100 + 200 = 300\n"
          ]
        }
      ]
    },
    {
      "cell_type": "code",
      "source": [
        "age = 18\n",
        "print(\"나이: \"+str(age)+\"세\")\n"
      ],
      "metadata": {
        "colab": {
          "base_uri": "https://localhost:8080/"
        },
        "id": "gbiVjKuGLE7W",
        "outputId": "51dc1a83-0547-499d-df10-ed4d224d38ed"
      },
      "execution_count": null,
      "outputs": [
        {
          "output_type": "stream",
          "name": "stdout",
          "text": [
            "나이: 18세\n"
          ]
        }
      ]
    },
    {
      "cell_type": "code",
      "source": [
        "wage = 5\n",
        "exchange = 1369.23\n",
        "\n",
        "print(\"{}시간에 {}달러 벌었습니다.\".format(1, wage*1) )\n",
        "print(\"{}시간에 {}달러 벌었습니다.\" .format(5, wage*2) )\n",
        "print(\"{}시간에 {:.1f}{}달러 벌었습니다.\" .format(1, wage * 1 * exchange, \"달러\"))\n",
        "print(\"{}시간에 {:.1f}달러 벌었습니다.\" .format(5, wage * 5 * exchange, \"원\"))"
      ],
      "metadata": {
        "colab": {
          "base_uri": "https://localhost:8080/"
        },
        "id": "vKJ03ZDdLqxX",
        "outputId": "cbb37ad3-a4c8-43e3-e654-15c351edc733"
      },
      "execution_count": null,
      "outputs": [
        {
          "output_type": "stream",
          "name": "stdout",
          "text": [
            "1시간에 5달러 벌었습니다.\n",
            "5시간에 10달러 벌었습니다.\n",
            "1시간에 6846.1달러달러 벌었습니다.\n",
            "5시간에 34230.8달러 벌었습니다.\n"
          ]
        }
      ]
    },
    {
      "cell_type": "code",
      "source": [
        "name = input(\"이름이 무엇입니까? \")\n",
        "age = int(input(\"몇 살이예요? \"))\n",
        "height = float(input(\"키가 몇 인가요? \"))\n",
        "\n",
        "print(\"이름 : \" , name)\n",
        "print(\"나이 : \" , age)\n",
        "print(\"신장 : \" , height)"
      ],
      "metadata": {
        "colab": {
          "base_uri": "https://localhost:8080/"
        },
        "id": "9_acp9oyNRk0",
        "outputId": "bd49ac51-817e-44ae-d28d-d885f919515b"
      },
      "execution_count": null,
      "outputs": [
        {
          "output_type": "stream",
          "name": "stdout",
          "text": [
            "이름이 무엇입니까? 권민석\n",
            "몇 살이예요? 17\n",
            "키가 몇 인가요? 170.0\n",
            "이름 :  권민석\n",
            "나이 :  17\n",
            "신장 :  170.0\n"
          ]
        }
      ]
    },
    {
      "cell_type": "code",
      "source": [
        "print(\"==== 주차료 계산 ====\")\n",
        "주차시간 = int(input(\"주차시간을 입력해주세요.\"))\n",
        "단위시간 = 주차시간 // 15\n",
        "요금 = 단위시간 * 1000\n",
        "print(\"주차시간: \", 주차시간)\n",
        "print(\"주차요금: \", 요금)"
      ],
      "metadata": {
        "colab": {
          "base_uri": "https://localhost:8080/"
        },
        "id": "cArweX66OVfk",
        "outputId": "ed6a2574-65f5-4644-88b0-95ca0f8aaa81"
      },
      "execution_count": null,
      "outputs": [
        {
          "output_type": "stream",
          "name": "stdout",
          "text": [
            "==== 주차료 계산 ====\n",
            "주차시간을 입력해주세요.25\n",
            "주차시간:  25\n",
            "주차요금:  1000\n"
          ]
        }
      ]
    },
    {
      "cell_type": "code",
      "source": [
        "weight = float(input(\"몸무게를 kg단위로 입력하세요 : \"))\n",
        "height = float(input(\"키를 미터 단위로 입력하세요: \"))\n",
        "\n",
        "bmi = (weight / (height ** 2))\n",
        "print(\"당신의 bmi = %.2f\" %(bmi))"
      ],
      "metadata": {
        "colab": {
          "base_uri": "https://localhost:8080/"
        },
        "id": "kB0SZqhtQWIT",
        "outputId": "f7b73689-5841-4c49-b970-987fcc340001"
      },
      "execution_count": null,
      "outputs": [
        {
          "output_type": "stream",
          "name": "stdout",
          "text": [
            "몸무게를 kg단위로 입력하세요 : 60.5\n",
            "키를 미터 단위로 입력하세요: 1.70\n",
            "당신의 bmi = 20.93\n"
          ]
        }
      ]
    },
    {
      "cell_type": "code",
      "source": [
        "너비 = int(input(\"사각형의 너비는? : \"))\n",
        "높이 = int(input(\"사각형의 높이는? : \"))\n",
        "길이 = 2 * (너비 + 높이)\n",
        "면적 = 너비 * 높이\n",
        "\n",
        "print(\"사각형의 너비 : {}cm\".format(너비))\n",
        "print(\"사각형의 높이 : {}cm\".format(높이))\n",
        "print(\"둘레의 길이 : {}cm\".format(길이))\n",
        "print(\"면적 : {}cm2\".format(면적))\n"
      ],
      "metadata": {
        "colab": {
          "base_uri": "https://localhost:8080/"
        },
        "id": "mxCAnMQPQ4Gz",
        "outputId": "b262f7d1-ff7a-4f96-d6f9-596bb6ea5cd9"
      },
      "execution_count": null,
      "outputs": [
        {
          "output_type": "stream",
          "name": "stdout",
          "text": [
            "사각형의 너비는? : 50\n",
            "사각형의 높이는? : 50\n",
            "사각형의 너비 : 50cm\n",
            "사각형의 높이 : 50cm\n",
            "둘레의 길이 : 200cm\n",
            "면적 : 2500cm2\n"
          ]
        }
      ]
    },
    {
      "cell_type": "code",
      "source": [
        "money = int(input(\"투입한 돈 : \"))\n",
        "price = int(input(\"물건값 : \"))\n",
        "\n",
        "change = money - price\n",
        "print(\"거스름돈 : \", change)\n",
        "coin500s = change // 500\n",
        "change = change % 500\n",
        "coin100s = change // 100\n",
        "\n",
        "print(\"500원 동전의 개수 : \", coin500s)\n",
        "print(\"100원 동전의 개수 : \", coin100s)"
      ],
      "metadata": {
        "colab": {
          "base_uri": "https://localhost:8080/"
        },
        "id": "32Iiok-rT4yS",
        "outputId": "bbbf0bfb-e278-4d1a-c57c-755968b9b4d9"
      },
      "execution_count": null,
      "outputs": [
        {
          "output_type": "stream",
          "name": "stdout",
          "text": [
            "투입한 돈 : 5000\n",
            "물건값 : 2600\n",
            "거스름돈 :  2400\n",
            "500원 동전의 개수 :  4\n",
            "100원 동전의 개수 :  4\n"
          ]
        }
      ]
    },
    {
      "cell_type": "code",
      "source": [
        "fruits = ['apple', 'banana', 'cherry']\n",
        "num = [1, 2, 3, 4, 5]\n",
        "mixed_list = [1, 'hello', 3.14, True]\n",
        "empty_list = []\n",
        "empty_list = list()"
      ],
      "metadata": {
        "id": "Z1qAjUI9VlGy"
      },
      "execution_count": null,
      "outputs": []
    },
    {
      "cell_type": "markdown",
      "source": [
        "# 리스트"
      ],
      "metadata": {
        "id": "ofbh7PGwisnO"
      }
    },
    {
      "cell_type": "markdown",
      "source": [
        "## 인덱싱"
      ],
      "metadata": {
        "id": "d-aDz3mui1Ne"
      }
    },
    {
      "cell_type": "code",
      "source": [
        "my_list = [1, 2, 3, 4, 5]\n",
        "print(my_list[0])\n",
        "print(my_list[3])"
      ],
      "metadata": {
        "id": "beYVntKZkCWu"
      },
      "execution_count": null,
      "outputs": []
    },
    {
      "cell_type": "code",
      "source": [
        "nested_list = [[1, 2, 3], [4, 5, 6,], [7, 8, 9]]\n",
        "print(nested_list[1][0])"
      ],
      "metadata": {
        "id": "FV4mzB46ix4_"
      },
      "execution_count": null,
      "outputs": []
    },
    {
      "cell_type": "markdown",
      "source": [
        "## 슬라이싱"
      ],
      "metadata": {
        "id": "aIqKWHbnkIMj"
      }
    },
    {
      "cell_type": "code",
      "source": [
        "my_list = [1, 2, 3, 4, 5]\n",
        "print(my_list[1:3])"
      ],
      "metadata": {
        "colab": {
          "base_uri": "https://localhost:8080/"
        },
        "id": "cqXyq19xkN88",
        "outputId": "33ebed5a-0c81-479d-bbb8-8e96fed8c931"
      },
      "execution_count": null,
      "outputs": [
        {
          "output_type": "stream",
          "name": "stdout",
          "text": [
            "[2, 3]\n"
          ]
        }
      ]
    },
    {
      "cell_type": "code",
      "source": [
        "my_list = [1,2,3,4,5]\n",
        "print(my_list[0:4:2]) # list = [start:end:step(뛰어넘기)]"
      ],
      "metadata": {
        "colab": {
          "base_uri": "https://localhost:8080/"
        },
        "id": "D5V9nneDkUiD",
        "outputId": "8e77cf9b-245b-40ad-8512-2204a2f43683"
      },
      "execution_count": null,
      "outputs": [
        {
          "output_type": "stream",
          "name": "stdout",
          "text": [
            "[1, 3]\n"
          ]
        }
      ]
    },
    {
      "cell_type": "markdown",
      "source": [
        "## 연산-더하기"
      ],
      "metadata": {
        "id": "QuKj4C89lBsr"
      }
    },
    {
      "cell_type": "code",
      "source": [
        "list1 = [1,2,3,]\n",
        "list2 = [4,5,6]\n",
        "list3 = list1 + list2\n",
        "print(list3)\n",
        "print(list3 + [7])"
      ],
      "metadata": {
        "colab": {
          "base_uri": "https://localhost:8080/"
        },
        "id": "i4IbesOJkhTT",
        "outputId": "203fd37e-18ce-42ba-8a03-c4c886ee92b5"
      },
      "execution_count": null,
      "outputs": [
        {
          "output_type": "stream",
          "name": "stdout",
          "text": [
            "[1, 2, 3, 4, 5, 6]\n",
            "[1, 2, 3, 4, 5, 6, 7]\n"
          ]
        }
      ]
    },
    {
      "cell_type": "code",
      "source": [],
      "metadata": {
        "id": "OYBou4aYlSiz"
      },
      "execution_count": null,
      "outputs": []
    },
    {
      "cell_type": "markdown",
      "source": [
        "## 연산-곱하기"
      ],
      "metadata": {
        "id": "HI5Ccsp5lqlL"
      }
    },
    {
      "cell_type": "code",
      "source": [
        "list1 = [1,2,3]\n",
        "list2 = list1 * 3\n",
        "print(list2)"
      ],
      "metadata": {
        "colab": {
          "base_uri": "https://localhost:8080/"
        },
        "id": "WrbqddQ6ltAz",
        "outputId": "098e67d6-da76-4bee-8b6c-a2222abae599"
      },
      "execution_count": null,
      "outputs": [
        {
          "output_type": "stream",
          "name": "stdout",
          "text": [
            "[1, 2, 3, 1, 2, 3, 1, 2, 3]\n"
          ]
        }
      ]
    },
    {
      "cell_type": "code",
      "source": [],
      "metadata": {
        "id": "1CNQGtGClzHE"
      },
      "execution_count": null,
      "outputs": []
    },
    {
      "cell_type": "markdown",
      "source": [
        "## 수정.삭제"
      ],
      "metadata": {
        "id": "YOyS2xd0l1Mi"
      }
    },
    {
      "cell_type": "code",
      "source": [
        "# 수정\n",
        "a = [1,2,3,4,5]\n",
        "a[2] = 7\n",
        "print(a)\n",
        "\n",
        "# 삭제\n",
        "a = [1,2,3,4,5]\n",
        "del a[2]\n",
        "print(a)"
      ],
      "metadata": {
        "colab": {
          "base_uri": "https://localhost:8080/"
        },
        "id": "NNFjsfkdl6ur",
        "outputId": "b6b91264-ef15-428f-950d-06884848bcfa"
      },
      "execution_count": null,
      "outputs": [
        {
          "output_type": "stream",
          "name": "stdout",
          "text": [
            "[1, 2, 7, 4, 5]\n",
            "[1, 2, 4, 5]\n"
          ]
        }
      ]
    },
    {
      "cell_type": "code",
      "source": [],
      "metadata": {
        "id": "El1Lg-RLmFiF"
      },
      "execution_count": null,
      "outputs": []
    },
    {
      "cell_type": "markdown",
      "source": [
        "## 함수"
      ],
      "metadata": {
        "id": "yjCj8Wk8mbQy"
      }
    },
    {
      "cell_type": "code",
      "source": [],
      "metadata": {
        "id": "sRzX4KqOmg6C"
      },
      "execution_count": null,
      "outputs": []
    },
    {
      "cell_type": "markdown",
      "source": [
        "### len()"
      ],
      "metadata": {
        "id": "8fBxHtxMm1GK"
      }
    },
    {
      "cell_type": "code",
      "source": [
        "a = [3,1,5,4,9,6,2,7,8]\n",
        "print(len(a))"
      ],
      "metadata": {
        "colab": {
          "base_uri": "https://localhost:8080/"
        },
        "id": "qisaUkHVm2eT",
        "outputId": "613c3691-3566-4376-f077-788686630f9a"
      },
      "execution_count": null,
      "outputs": [
        {
          "output_type": "stream",
          "name": "stdout",
          "text": [
            "9\n"
          ]
        }
      ]
    },
    {
      "cell_type": "markdown",
      "source": [
        "### max()"
      ],
      "metadata": {
        "id": "9HrWm23Im5iS"
      }
    },
    {
      "cell_type": "code",
      "source": [
        "a = [3,1,5,4,9,6,2,7,8]\n",
        "print(max(a))"
      ],
      "metadata": {
        "colab": {
          "base_uri": "https://localhost:8080/"
        },
        "id": "GsZBovXcnEhC",
        "outputId": "7436f791-d2aa-4326-a758-d63e6593971e"
      },
      "execution_count": null,
      "outputs": [
        {
          "output_type": "stream",
          "name": "stdout",
          "text": [
            "9\n"
          ]
        }
      ]
    },
    {
      "cell_type": "code",
      "source": [
        "num = [3,\"hello\",3.14]\n",
        "\n",
        "print(max(num)) # 대소비교 불가능"
      ],
      "metadata": {
        "colab": {
          "base_uri": "https://localhost:8080/",
          "height": 184
        },
        "id": "qtIIIlqdnbja",
        "outputId": "25835fae-af28-4051-d4cb-34dde906be7b"
      },
      "execution_count": null,
      "outputs": [
        {
          "output_type": "error",
          "ename": "TypeError",
          "evalue": "'>' not supported between instances of 'str' and 'int'",
          "traceback": [
            "\u001b[0;31m---------------------------------------------------------------------------\u001b[0m",
            "\u001b[0;31mTypeError\u001b[0m                                 Traceback (most recent call last)",
            "\u001b[0;32m<ipython-input-22-03181cd41258>\u001b[0m in \u001b[0;36m<cell line: 3>\u001b[0;34m()\u001b[0m\n\u001b[1;32m      1\u001b[0m \u001b[0mnum\u001b[0m \u001b[0;34m=\u001b[0m \u001b[0;34m[\u001b[0m\u001b[0;36m3\u001b[0m\u001b[0;34m,\u001b[0m\u001b[0;34m\"hello\"\u001b[0m\u001b[0;34m,\u001b[0m\u001b[0;36m3.14\u001b[0m\u001b[0;34m]\u001b[0m\u001b[0;34m\u001b[0m\u001b[0;34m\u001b[0m\u001b[0m\n\u001b[1;32m      2\u001b[0m \u001b[0;34m\u001b[0m\u001b[0m\n\u001b[0;32m----> 3\u001b[0;31m \u001b[0mprint\u001b[0m\u001b[0;34m(\u001b[0m\u001b[0mmax\u001b[0m\u001b[0;34m(\u001b[0m\u001b[0mnum\u001b[0m\u001b[0;34m)\u001b[0m\u001b[0;34m)\u001b[0m\u001b[0;34m\u001b[0m\u001b[0;34m\u001b[0m\u001b[0m\n\u001b[0m",
            "\u001b[0;31mTypeError\u001b[0m: '>' not supported between instances of 'str' and 'int'"
          ]
        }
      ]
    },
    {
      "cell_type": "markdown",
      "source": [
        "### min()"
      ],
      "metadata": {
        "id": "HtQ3xjLBnGaa"
      }
    },
    {
      "cell_type": "code",
      "source": [
        "a = [3,1,5,4,9,6,2,7,8]\n",
        "print(min(a))"
      ],
      "metadata": {
        "colab": {
          "base_uri": "https://localhost:8080/"
        },
        "id": "PS1-36-znHux",
        "outputId": "1024f292-3111-4d69-d87a-8983068f61e5"
      },
      "execution_count": null,
      "outputs": [
        {
          "output_type": "stream",
          "name": "stdout",
          "text": [
            "1\n"
          ]
        }
      ]
    },
    {
      "cell_type": "markdown",
      "source": [
        "### sum()"
      ],
      "metadata": {
        "id": "8kOVqjOEnIMC"
      }
    },
    {
      "cell_type": "code",
      "source": [
        "a = [3,1,5,4,9,6,2,7,8]\n",
        "print(sum(a)) # 리스트 안의 값 전부 합함"
      ],
      "metadata": {
        "colab": {
          "base_uri": "https://localhost:8080/"
        },
        "id": "3u8UhelanJrR",
        "outputId": "582342fb-6e3d-4cc6-b143-ed78c7ed7ed2"
      },
      "execution_count": null,
      "outputs": [
        {
          "output_type": "stream",
          "name": "stdout",
          "text": [
            "45\n"
          ]
        }
      ]
    },
    {
      "cell_type": "markdown",
      "source": [
        "### sorted()"
      ],
      "metadata": {
        "id": "UXihbBXNnKFq"
      }
    },
    {
      "cell_type": "code",
      "source": [
        "a = [3,1,5,4,9,6,2,7,8]\n",
        "print(sorted(a)) # 오름차순\n",
        "\n",
        "a = [3,1,5,4,9,6,2,7,8]\n",
        "print(sorted(a,reverse =True)) # 내림차순"
      ],
      "metadata": {
        "colab": {
          "base_uri": "https://localhost:8080/"
        },
        "id": "HiUoAjpDnLnx",
        "outputId": "d993cc19-3da7-4611-b929-f026daea2c25"
      },
      "execution_count": null,
      "outputs": [
        {
          "output_type": "stream",
          "name": "stdout",
          "text": [
            "[9, 8, 7, 6, 5, 4, 3, 2, 1]\n"
          ]
        }
      ]
    },
    {
      "cell_type": "code",
      "source": [],
      "metadata": {
        "id": "sTftLusJoJfx"
      },
      "execution_count": null,
      "outputs": []
    },
    {
      "cell_type": "markdown",
      "source": [
        "## 메서드"
      ],
      "metadata": {
        "id": "aIay8y33oQc7"
      }
    },
    {
      "cell_type": "code",
      "source": [],
      "metadata": {
        "id": "wuffPIbToSMj"
      },
      "execution_count": null,
      "outputs": []
    },
    {
      "cell_type": "markdown",
      "source": [
        "### append()"
      ],
      "metadata": {
        "id": "kpR9JfEao__o"
      }
    },
    {
      "cell_type": "code",
      "source": [
        "a = [1,2,3,4,5]\n",
        "a.append(6)\n",
        "print(a)"
      ],
      "metadata": {
        "colab": {
          "base_uri": "https://localhost:8080/"
        },
        "id": "WRtk4xYSpCHi",
        "outputId": "ffa80b95-d4c6-451d-9361-203d2f71dde5"
      },
      "execution_count": null,
      "outputs": [
        {
          "output_type": "stream",
          "name": "stdout",
          "text": [
            "[1, 2, 3, 4, 5, 6]\n"
          ]
        }
      ]
    },
    {
      "cell_type": "code",
      "source": [],
      "metadata": {
        "id": "AWNGZOU0pF4h"
      },
      "execution_count": null,
      "outputs": []
    },
    {
      "cell_type": "markdown",
      "source": [
        "### insert()"
      ],
      "metadata": {
        "id": "0GaAUs-lpI-C"
      }
    },
    {
      "cell_type": "code",
      "source": [
        "a = [1,2,3,4,5]\n",
        "a.insert(2,'a')\n",
        "print(a)"
      ],
      "metadata": {
        "colab": {
          "base_uri": "https://localhost:8080/"
        },
        "id": "jAhiLR4upLYh",
        "outputId": "648624f3-523a-4c49-9e85-fb3fe5c7acd2"
      },
      "execution_count": null,
      "outputs": [
        {
          "output_type": "stream",
          "name": "stdout",
          "text": [
            "[1, 2, 'a', 3, 4, 5]\n"
          ]
        }
      ]
    },
    {
      "cell_type": "markdown",
      "source": [
        "### remove()"
      ],
      "metadata": {
        "id": "zq9OVqFdpMFJ"
      }
    },
    {
      "cell_type": "code",
      "source": [
        "a = [1,2,3,4,5]\n",
        "a.remove(a[2])\n",
        "print(a)\n",
        "\n",
        "a = [1,2,3,4,5]\n",
        "a.remove(2)\n",
        "print(a)"
      ],
      "metadata": {
        "colab": {
          "base_uri": "https://localhost:8080/"
        },
        "id": "bRlv2xf4pNaz",
        "outputId": "eaf2dc44-2416-465f-ba05-204a67f96c29"
      },
      "execution_count": null,
      "outputs": [
        {
          "output_type": "stream",
          "name": "stdout",
          "text": [
            "[1, 2, 4, 5]\n",
            "[1, 3, 4, 5]\n"
          ]
        }
      ]
    },
    {
      "cell_type": "markdown",
      "source": [
        "### count()"
      ],
      "metadata": {
        "id": "A1JV8lNxpoSp"
      }
    },
    {
      "cell_type": "code",
      "source": [
        "b = [1,2,1,3,1,4,5]\n",
        "count = b.count(1)\n",
        "print(count)"
      ],
      "metadata": {
        "colab": {
          "base_uri": "https://localhost:8080/"
        },
        "id": "jny3Vyzzpt3p",
        "outputId": "d04235a1-1d8e-4f47-ee40-1cf0b9b1933a"
      },
      "execution_count": null,
      "outputs": [
        {
          "output_type": "stream",
          "name": "stdout",
          "text": [
            "3\n"
          ]
        }
      ]
    },
    {
      "cell_type": "markdown",
      "source": [
        "### index()"
      ],
      "metadata": {
        "id": "T2wfqrbjpuR5"
      }
    },
    {
      "cell_type": "code",
      "source": [
        "fruits = ['apple','banana','cherry','banana']\n",
        "index = fruits.index('banana') # 'banana'가 몇번째에 처음으로 존재하는지\n",
        "print(index)"
      ],
      "metadata": {
        "colab": {
          "base_uri": "https://localhost:8080/"
        },
        "id": "1ldcEfs5pvkh",
        "outputId": "fb65a885-1165-4460-ca83-ada6a4147a38"
      },
      "execution_count": null,
      "outputs": [
        {
          "output_type": "stream",
          "name": "stdout",
          "text": [
            "1\n"
          ]
        }
      ]
    },
    {
      "cell_type": "markdown",
      "source": [
        "### pop()"
      ],
      "metadata": {
        "id": "hIOWM6YvpwDx"
      }
    },
    {
      "cell_type": "code",
      "source": [
        "a = [1,2,3,4,5]\n",
        "a.pop(2) # 2번 자리 문자 제거\n",
        "print(a)\n",
        "\n",
        "a = [1,2,3,4,5]\n",
        "a.pop() # 마지막 자리 문자 제거\n",
        "print(a)"
      ],
      "metadata": {
        "colab": {
          "base_uri": "https://localhost:8080/"
        },
        "id": "7tXhYFeEpxMA",
        "outputId": "6174747b-1038-428a-dd63-65abeac1b804"
      },
      "execution_count": null,
      "outputs": [
        {
          "output_type": "stream",
          "name": "stdout",
          "text": [
            "[1, 2, 4, 5]\n",
            "[1, 2, 3, 4]\n",
            "<class 'list'>\n"
          ]
        }
      ]
    },
    {
      "cell_type": "code",
      "source": [],
      "metadata": {
        "id": "1vusbWZNq5Bw"
      },
      "execution_count": null,
      "outputs": []
    },
    {
      "cell_type": "markdown",
      "source": [
        "# 튜플"
      ],
      "metadata": {
        "id": "V0rHbJo3rO8J"
      }
    },
    {
      "cell_type": "code",
      "source": [
        "a = (1,2,3,4,5)\n",
        "mixed_list = (1,\"hello\",3.14,True)\n",
        "str1 = 'apple'\n",
        "tuple2 = tuple(str1) # 튜플 형식으로 변환\n",
        "print(tuple2)"
      ],
      "metadata": {
        "colab": {
          "base_uri": "https://localhost:8080/"
        },
        "id": "TmcaU_5FrQwi",
        "outputId": "9e486f4f-f209-417a-ffbd-623354dd1161"
      },
      "execution_count": null,
      "outputs": [
        {
          "output_type": "stream",
          "name": "stdout",
          "text": [
            "('a', 'p', 'p', 'l', 'e')\n"
          ]
        }
      ]
    },
    {
      "cell_type": "code",
      "source": [
        "numbers = (5,6,7,8)\n",
        "n1,n2,n3,n4 = numbers\n",
        "print(n1)"
      ],
      "metadata": {
        "colab": {
          "base_uri": "https://localhost:8080/"
        },
        "id": "2ctILWKprsHQ",
        "outputId": "f7abe6e2-e059-486a-e3d2-d0783ac92d35"
      },
      "execution_count": null,
      "outputs": [
        {
          "output_type": "stream",
          "name": "stdout",
          "text": [
            "5\n"
          ]
        }
      ]
    },
    {
      "cell_type": "code",
      "source": [
        "tu = 'apple','banna','grape'\n",
        "tu = n1,n2,n3\n",
        "print(n1)"
      ],
      "metadata": {
        "colab": {
          "base_uri": "https://localhost:8080/"
        },
        "id": "paQhzCossX_E",
        "outputId": "ef97b40b-7b21-46c3-fc79-11a338f2175c"
      },
      "execution_count": null,
      "outputs": [
        {
          "output_type": "stream",
          "name": "stdout",
          "text": [
            "apple\n"
          ]
        }
      ]
    },
    {
      "cell_type": "code",
      "source": [],
      "metadata": {
        "id": "IS1zkhEzso6f"
      },
      "execution_count": null,
      "outputs": []
    },
    {
      "cell_type": "markdown",
      "source": [
        "## 튜플 인덱싱"
      ],
      "metadata": {
        "id": "hkeilm05s9_n"
      }
    },
    {
      "cell_type": "code",
      "source": [
        "tu = (\"cat\",5,True)\n",
        "print(tu[0])\n",
        "\n",
        "print(\"Name :\",tu[0])\n",
        "print(\"Age :\",tu[1])\n",
        "print(\"Female :\",tu[2])"
      ],
      "metadata": {
        "colab": {
          "base_uri": "https://localhost:8080/"
        },
        "id": "cIc-GaMNs_qR",
        "outputId": "94400679-800f-4bd7-f065-c9a4ae88d684"
      },
      "execution_count": null,
      "outputs": [
        {
          "output_type": "stream",
          "name": "stdout",
          "text": [
            "cat\n",
            "Name : cat\n",
            "Age : 5\n",
            "Female : True\n"
          ]
        }
      ]
    },
    {
      "cell_type": "code",
      "source": [
        "tu = (1,2,3,4,5)\n",
        "print(tu[1:3])\n",
        "print(tu[:3])\n",
        "print(tu[1:])\n",
        "print(tu[::-1]) # [start:end:step(뛰어넘기)]"
      ],
      "metadata": {
        "colab": {
          "base_uri": "https://localhost:8080/"
        },
        "id": "PwgJKvyUtD0i",
        "outputId": "427f04e3-0ae5-4932-a8d9-796c4acb04fe"
      },
      "execution_count": null,
      "outputs": [
        {
          "output_type": "stream",
          "name": "stdout",
          "text": [
            "(2, 3)\n",
            "(1, 2, 3)\n",
            "(2, 3, 4, 5)\n",
            "(5, 4, 3, 2, 1)\n"
          ]
        }
      ]
    },
    {
      "cell_type": "code",
      "source": [],
      "metadata": {
        "id": "Z2_GrAlxv9Jh"
      },
      "execution_count": null,
      "outputs": []
    },
    {
      "cell_type": "markdown",
      "source": [
        "## 튜플 연산\n"
      ],
      "metadata": {
        "id": "xktYYDxAwsxf"
      }
    },
    {
      "cell_type": "code",
      "source": [
        "tu1=(1,2,3)\n",
        "tu2=tu1*3\n",
        "print(tu2)"
      ],
      "metadata": {
        "colab": {
          "base_uri": "https://localhost:8080/"
        },
        "id": "0n5Xejsbwtye",
        "outputId": "d8b4537c-c939-4cbf-cf80-2988b6f7b477"
      },
      "execution_count": null,
      "outputs": [
        {
          "output_type": "stream",
          "name": "stdout",
          "text": [
            "(1, 2, 3, 1, 2, 3, 1, 2, 3)\n"
          ]
        }
      ]
    },
    {
      "cell_type": "code",
      "source": [
        "tu1=(1,2,3)\n",
        "tu1[2] = 7\n",
        "print(tu1) # 튜플은 값의 수정, 삭제가 불가능함"
      ],
      "metadata": {
        "colab": {
          "base_uri": "https://localhost:8080/",
          "height": 184
        },
        "id": "BmUzVZApwzDu",
        "outputId": "20edc14e-52a5-4290-804b-a894302ee2ed"
      },
      "execution_count": null,
      "outputs": [
        {
          "output_type": "error",
          "ename": "TypeError",
          "evalue": "'tuple' object does not support item assignment",
          "traceback": [
            "\u001b[0;31m---------------------------------------------------------------------------\u001b[0m",
            "\u001b[0;31mTypeError\u001b[0m                                 Traceback (most recent call last)",
            "\u001b[0;32m<ipython-input-77-b768e186c125>\u001b[0m in \u001b[0;36m<cell line: 2>\u001b[0;34m()\u001b[0m\n\u001b[1;32m      1\u001b[0m \u001b[0mtu1\u001b[0m\u001b[0;34m=\u001b[0m\u001b[0;34m(\u001b[0m\u001b[0;36m1\u001b[0m\u001b[0;34m,\u001b[0m\u001b[0;36m2\u001b[0m\u001b[0;34m,\u001b[0m\u001b[0;36m3\u001b[0m\u001b[0;34m)\u001b[0m\u001b[0;34m\u001b[0m\u001b[0;34m\u001b[0m\u001b[0m\n\u001b[0;32m----> 2\u001b[0;31m \u001b[0mtu1\u001b[0m\u001b[0;34m[\u001b[0m\u001b[0;36m2\u001b[0m\u001b[0;34m]\u001b[0m \u001b[0;34m=\u001b[0m \u001b[0;36m7\u001b[0m\u001b[0;34m\u001b[0m\u001b[0;34m\u001b[0m\u001b[0m\n\u001b[0m\u001b[1;32m      3\u001b[0m \u001b[0mprint\u001b[0m\u001b[0;34m(\u001b[0m\u001b[0mtu1\u001b[0m\u001b[0;34m)\u001b[0m\u001b[0;34m\u001b[0m\u001b[0;34m\u001b[0m\u001b[0m\n",
            "\u001b[0;31mTypeError\u001b[0m: 'tuple' object does not support item assignment"
          ]
        }
      ]
    },
    {
      "cell_type": "code",
      "source": [
        "li = [1,2,3,4,5]\n",
        "tu = tuple(li)\n",
        "print(tu) # 리스트 -> 튜플\n",
        "\n",
        "tu = (1,2,3,4,5)\n",
        "li = list(tu)\n",
        "print(li) # 튜플 -> 리스트"
      ],
      "metadata": {
        "colab": {
          "base_uri": "https://localhost:8080/"
        },
        "id": "44CwW8ZHxHU-",
        "outputId": "dfbb30f1-f0df-4120-b81a-3fe7dd5912d0"
      },
      "execution_count": null,
      "outputs": [
        {
          "output_type": "stream",
          "name": "stdout",
          "text": [
            "(1, 2, 3, 4, 5)\n",
            "[1, 2, 3, 4, 5]\n"
          ]
        }
      ]
    },
    {
      "cell_type": "code",
      "source": [],
      "metadata": {
        "id": "eFeGClzHxvee"
      },
      "execution_count": null,
      "outputs": []
    },
    {
      "cell_type": "markdown",
      "source": [
        "# 딕셔너리"
      ],
      "metadata": {
        "id": "QSDT6MXNyeie"
      }
    },
    {
      "cell_type": "code",
      "source": [
        "\n",
        "person = {\"name\" : \"eun woo\",\"age\":17,\"city\":\"ulsan\"}\n",
        "number = {1:\"one\",2:\"two\",3:\"three\"}\n",
        "\n",
        "print(type(number))"
      ],
      "metadata": {
        "colab": {
          "base_uri": "https://localhost:8080/"
        },
        "id": "oQ6vzVRpyfmv",
        "outputId": "17406abc-0451-4459-f193-373045394f77"
      },
      "execution_count": null,
      "outputs": [
        {
          "output_type": "stream",
          "name": "stdout",
          "text": [
            "<class 'dict'>\n"
          ]
        }
      ]
    },
    {
      "cell_type": "code",
      "source": [
        "icecream = {\"월드콘\":2000,\"메로나\":900,\"쌍쌍바\":1000}\n",
        "print(icecream[\"월드콘\"])\n",
        "print(icecream.get(\"죠스바\"))"
      ],
      "metadata": {
        "colab": {
          "base_uri": "https://localhost:8080/"
        },
        "id": "Spy-Ze1tzQHw",
        "outputId": "5a8f1f6a-7181-4d0f-f24f-83dbbbb4efa7"
      },
      "execution_count": null,
      "outputs": [
        {
          "output_type": "stream",
          "name": "stdout",
          "text": [
            "2000\n",
            "None\n"
          ]
        }
      ]
    },
    {
      "cell_type": "code",
      "source": [
        "person = {\"name\" : \"eun woo\",\"age\":17,\"city\":\"ulsan\"}\n",
        "person[\"gender\"] = \"male\" # 원래 gender 키가 없었기 때문에 추가됨\n",
        "print(person)\n",
        "person[\"age\"] = 27 # 원래 age 키가 있으므로 수정됨\n",
        "print(person)\n"
      ],
      "metadata": {
        "colab": {
          "base_uri": "https://localhost:8080/"
        },
        "id": "_spc1SOp0mBu",
        "outputId": "fb3eff53-c12c-4901-fdb9-e301d379028a"
      },
      "execution_count": null,
      "outputs": [
        {
          "output_type": "stream",
          "name": "stdout",
          "text": [
            "{'name': 'eun woo', 'age': 17, 'city': 'ulsan', 'gender': 'male'}\n",
            "{'name': 'eun woo', 'age': 27, 'city': 'ulsan', 'gender': 'male'}\n"
          ]
        }
      ]
    },
    {
      "cell_type": "code",
      "source": [],
      "metadata": {
        "id": "9Z_A3zhK1LyM"
      },
      "execution_count": null,
      "outputs": []
    },
    {
      "cell_type": "markdown",
      "source": [
        "## del()"
      ],
      "metadata": {
        "id": "_amf98qr1kUl"
      }
    },
    {
      "cell_type": "code",
      "source": [
        "person = {\"name\" : \"eun woo\",\"age\":17,\"city\":\"ulsan\"}\n",
        "del person[\"city\"]\n",
        "\n",
        "print(person)"
      ],
      "metadata": {
        "colab": {
          "base_uri": "https://localhost:8080/"
        },
        "id": "YPBWG6vv1l8s",
        "outputId": "3243e431-00d2-42f5-df1a-0890ef093a4c"
      },
      "execution_count": null,
      "outputs": [
        {
          "output_type": "stream",
          "name": "stdout",
          "text": [
            "{'name': 'eun woo', 'age': 17}\n"
          ]
        }
      ]
    },
    {
      "cell_type": "markdown",
      "source": [
        "## clear()"
      ],
      "metadata": {
        "id": "_u8tEh5P2IP0"
      }
    },
    {
      "cell_type": "code",
      "source": [
        "person = {\"name\" : \"eun woo\",\"age\":17,\"city\":\"ulsan\"}\n",
        "person.clear()\n",
        "\n",
        "print(person)"
      ],
      "metadata": {
        "colab": {
          "base_uri": "https://localhost:8080/"
        },
        "id": "STvqXNY91wDT",
        "outputId": "6353b42b-2444-4b50-ffe9-0aadfdda123d"
      },
      "execution_count": null,
      "outputs": [
        {
          "output_type": "stream",
          "name": "stdout",
          "text": [
            "{}\n"
          ]
        }
      ]
    },
    {
      "cell_type": "markdown",
      "source": [
        "## keys()"
      ],
      "metadata": {
        "id": "xYMoupM32MDs"
      }
    },
    {
      "cell_type": "code",
      "source": [
        "person = {\"name\" : \"eun woo\",\"age\":17,\"city\":\"ulsan\"}\n",
        "print(person.keys())"
      ],
      "metadata": {
        "colab": {
          "base_uri": "https://localhost:8080/"
        },
        "id": "3kquRGnl15gt",
        "outputId": "d12f0c19-4770-48eb-826d-7804c4111459"
      },
      "execution_count": null,
      "outputs": [
        {
          "output_type": "stream",
          "name": "stdout",
          "text": [
            "dict_keys(['name', 'age', 'city'])\n"
          ]
        }
      ]
    },
    {
      "cell_type": "markdown",
      "source": [
        "## values()"
      ],
      "metadata": {
        "id": "cAtuagCh2SNE"
      }
    },
    {
      "cell_type": "code",
      "source": [
        "person = {\"name\" : \"eun woo\",\"age\":17,\"city\":\"ulsan\"}\n",
        "print(person.values())"
      ],
      "metadata": {
        "colab": {
          "base_uri": "https://localhost:8080/"
        },
        "id": "I75vnjao2Q88",
        "outputId": "607cab1f-c3a1-45e0-cd37-73d285984efc"
      },
      "execution_count": null,
      "outputs": [
        {
          "output_type": "stream",
          "name": "stdout",
          "text": [
            "dict_values(['eun woo', 17, 'ulsan'])\n"
          ]
        }
      ]
    },
    {
      "cell_type": "markdown",
      "source": [
        "## items()"
      ],
      "metadata": {
        "id": "UX0BpGfi2bbS"
      }
    },
    {
      "cell_type": "code",
      "source": [
        "person = {\"name\" : \"eun woo\",\"age\":17,\"city\":\"ulsan\"}\n",
        "\n",
        "print(person.items())\n",
        "print(list(person.items()))  # key, value 묶음 = 튜플, 전체 = list\n",
        "print(tuple(person.items())) # 전체 튜플\n"
      ],
      "metadata": {
        "colab": {
          "base_uri": "https://localhost:8080/"
        },
        "id": "6tdGvkgF2V6e",
        "outputId": "7a4f625e-a865-48df-9798-7489727acb52"
      },
      "execution_count": null,
      "outputs": [
        {
          "output_type": "stream",
          "name": "stdout",
          "text": [
            "dict_items([('name', 'eun woo'), ('age', 17), ('city', 'ulsan')])\n",
            "[('name', 'eun woo'), ('age', 17), ('city', 'ulsan')]\n",
            "(('name', 'eun woo'), ('age', 17), ('city', 'ulsan'))\n"
          ]
        }
      ]
    },
    {
      "cell_type": "markdown",
      "source": [
        "## list(),tuple()"
      ],
      "metadata": {
        "id": "tj2p0Fyn2_fc"
      }
    },
    {
      "cell_type": "code",
      "source": [
        "person = {\"name\" : \"eun woo\",\"age\":17,\"city\":\"ulsan\"}\n",
        "print(list(person))\n",
        "\n",
        "person = {\"name\" : \"eun woo\",\"age\":17,\"city\":\"ulsan\"}\n",
        "print(tuple(person))"
      ],
      "metadata": {
        "colab": {
          "base_uri": "https://localhost:8080/"
        },
        "id": "j0ViwrGF2fyd",
        "outputId": "68726e3a-02ab-4aab-f803-b2b02323ef3a"
      },
      "execution_count": null,
      "outputs": [
        {
          "output_type": "stream",
          "name": "stdout",
          "text": [
            "['name', 'age', 'city']\n",
            "('name', 'age', 'city')\n"
          ]
        }
      ]
    },
    {
      "cell_type": "code",
      "source": [],
      "metadata": {
        "id": "nuxX01Yw3GDr"
      },
      "execution_count": null,
      "outputs": []
    },
    {
      "cell_type": "markdown",
      "source": [
        "## zip(),dict()"
      ],
      "metadata": {
        "id": "BduIx2ct4OdE"
      }
    },
    {
      "cell_type": "code",
      "source": [
        "# zip()\n",
        "numbers = [1,2,3]\n",
        "letters = [\"A\",\"B,\",\"c\"]\n",
        "for i in range(3): # 3개의 묶음으로\n",
        "  pair = (numbers[i], letters[i])\n",
        "  print(pair)\n",
        "\n",
        "numbers = [1,2,3]\n",
        "letters = [\"A\",\"B,\",\"c\"]\n",
        "for i in zip(numbers,letters):\n",
        "  print(i)"
      ],
      "metadata": {
        "colab": {
          "base_uri": "https://localhost:8080/"
        },
        "id": "wezzJixf4RAB",
        "outputId": "3ee13b5f-9aad-4ce3-d548-b02e77c97d9e"
      },
      "execution_count": null,
      "outputs": [
        {
          "output_type": "stream",
          "name": "stdout",
          "text": [
            "(1, 'A')\n",
            "(2, 'B,')\n",
            "(3, 'c')\n",
            "(1, 'A')\n",
            "(2, 'B,')\n",
            "(3, 'c')\n"
          ]
        }
      ]
    },
    {
      "cell_type": "code",
      "source": [
        "key = ['name','age','city']\n",
        "value = ['eun woo',17,'ulsan']\n",
        "\n",
        "person=dict(zip(key,value))\n",
        "print(person)"
      ],
      "metadata": {
        "colab": {
          "base_uri": "https://localhost:8080/"
        },
        "id": "agLcKOT84nmr",
        "outputId": "dbe94905-6d30-4121-9417-e8008fe1ceb2"
      },
      "execution_count": null,
      "outputs": [
        {
          "output_type": "stream",
          "name": "stdout",
          "text": [
            "{'name': 'eun woo', 'age': 17, 'city': 'ulsan'}\n"
          ]
        }
      ]
    },
    {
      "cell_type": "code",
      "source": [],
      "metadata": {
        "id": "lkCH4yrz5geQ"
      },
      "execution_count": null,
      "outputs": []
    },
    {
      "cell_type": "markdown",
      "source": [
        "# 문제"
      ],
      "metadata": {
        "id": "BpGQHiN26AJb"
      }
    },
    {
      "cell_type": "code",
      "source": [
        "num1 = input(\"문자열을 입력하세요.\").split() # 공백을 기준으로 자름\n",
        "print(num1)"
      ],
      "metadata": {
        "colab": {
          "base_uri": "https://localhost:8080/"
        },
        "id": "CdlUSDiU6Bgu",
        "outputId": "395367a0-6fa5-419b-a373-9505f145dd0d"
      },
      "execution_count": null,
      "outputs": [
        {
          "output_type": "stream",
          "name": "stdout",
          "text": [
            "문자열을 입력하세요.심동욱 바보\n",
            "['심동욱', '바보']\n"
          ]
        }
      ]
    },
    {
      "cell_type": "code",
      "source": [
        "# 전체를 하나씩 자름\n",
        "num2 = list(input(\"문자를 입력하세요.\"))\n",
        "print(num2)"
      ],
      "metadata": {
        "colab": {
          "base_uri": "https://localhost:8080/"
        },
        "id": "9KRrWvhY6M-z",
        "outputId": "9eced111-0b23-426b-9622-153fdd301916"
      },
      "execution_count": null,
      "outputs": [
        {
          "output_type": "stream",
          "name": "stdout",
          "text": [
            "문자를 입력하세요.ㅋ\n",
            "['ㅋ']\n"
          ]
        }
      ]
    },
    {
      "cell_type": "code",
      "source": [
        "#숫자를 하나씩 입력받아\n",
        "num3 = []\n",
        "num3.append(int(input(\"숫자를입력\")))\n",
        "num3.append(int(input(\"숫자를입력\")))\n",
        "num3.append(int(input(\"숫자를입력\")))\n",
        "\n",
        "print(num3)"
      ],
      "metadata": {
        "colab": {
          "base_uri": "https://localhost:8080/"
        },
        "id": "dgnmnXW46uRK",
        "outputId": "db9d00f1-191e-4935-d7b6-099d19769538"
      },
      "execution_count": null,
      "outputs": [
        {
          "output_type": "stream",
          "name": "stdout",
          "text": [
            "숫자를입력1\n",
            "숫자를입력2\n",
            "숫자를입력3\n",
            "[1, 2, 3]\n"
          ]
        }
      ]
    },
    {
      "cell_type": "code",
      "source": [
        "# 숫자 여러개 입력받기\n",
        "num4 = list(map(int,input(\"숫자입력\").split()))\n",
        "print(\"합 :\",num4)"
      ],
      "metadata": {
        "colab": {
          "base_uri": "https://localhost:8080/"
        },
        "id": "dHKaqy4P7JlK",
        "outputId": "79a52e7b-0b16-4ea9-9abe-ecdfb1f2984f"
      },
      "execution_count": null,
      "outputs": [
        {
          "output_type": "stream",
          "name": "stdout",
          "text": [
            "숫자입력1 5 6 7 7 8 \n",
            "합 : [1, 5, 6, 7, 7, 8]\n"
          ]
        }
      ]
    },
    {
      "cell_type": "code",
      "source": [
        "# 숫자 입력받아 합, 평균, 최소, 최대, 중간값\n",
        "num5 = list(map(int,input(\"숫자입력 \").split()))\n",
        "num5.sort()\n",
        "# print(\"합:\", sum(num5))\n",
        "# print(\"평균:\", sum(num5)/len(num5))\n",
        "# print(\"최솟값:\", num5[0])\n",
        "print(\"최댓값:\", num5[-1])\n",
        "print(\"중간값:\", num5[len(num5) // 2 ])"
      ],
      "metadata": {
        "colab": {
          "base_uri": "https://localhost:8080/"
        },
        "id": "EB9T1uWQ7nnt",
        "outputId": "c610fd64-77db-4970-e816-929228cae936"
      },
      "execution_count": null,
      "outputs": [
        {
          "output_type": "stream",
          "name": "stdout",
          "text": [
            "숫자입력1 4 6 7\n",
            "최댓값: 7\n",
            "중간값: 6\n"
          ]
        }
      ]
    },
    {
      "cell_type": "code",
      "source": [
        "xrp = [{\"날짜\" : \"2022-06-01\", \"open\" : 535, \"high\" : 565, \"low\" : 510, \"close\" : 533}\n",
        "      , {\"날짜\" : \"2022-06-02\", \"open\" : 533, \"high\" : 546, \"low\" : 493, \"close\" : 504}\n",
        "      , {\"날짜\" : \"2022-06-03\", \"open\" : 503, \"high\" : 518, \"low\" : 476, \"close\" : 498}\n",
        "       ]\n",
        "print(type(xrp))"
      ],
      "metadata": {
        "colab": {
          "base_uri": "https://localhost:8080/"
        },
        "id": "E1Y4QOjU8SGt",
        "outputId": "db2136e0-4856-46f8-97fb-8e88b2345296"
      },
      "execution_count": null,
      "outputs": [
        {
          "output_type": "stream",
          "name": "stdout",
          "text": [
            "<class 'list'>\n"
          ]
        }
      ]
    }
  ]
}