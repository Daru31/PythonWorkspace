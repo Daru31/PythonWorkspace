{
  "cells": [
    {
      "cell_type": "markdown",
      "metadata": {
        "id": "view-in-github",
        "colab_type": "text"
      },
      "source": [
        "<a href=\"https://colab.research.google.com/github/Daru31/PythonWorkspace/blob/master/%ED%95%A8%EC%88%98%EC%99%80_%EC%98%A4%EB%A5%98_%EB%B0%8F_%EC%A0%9C%EC%96%B4.ipynb\" target=\"_parent\"><img src=\"https://colab.research.google.com/assets/colab-badge.svg\" alt=\"Open In Colab\"/></a>"
      ]
    },
    {
      "cell_type": "markdown",
      "metadata": {
        "id": "0TIkvxFbt-du"
      },
      "source": [
        "# 함수(def)"
      ]
    },
    {
      "cell_type": "code",
      "execution_count": null,
      "metadata": {
        "colab": {
          "base_uri": "https://localhost:8080/"
        },
        "id": "RjkmalTypWD5",
        "outputId": "7ff8553d-9d16-4d73-82ce-26b414ece990"
      },
      "outputs": [
        {
          "name": "stdout",
          "output_type": "stream",
          "text": [
            "얘들아 오늘 잘해보자!\n",
            "12\n",
            "이름을 입력하세요.;ljk\n",
            "[0, 1, 2, 3, 4, 5, 6]\n"
          ]
        }
      ],
      "source": [
        "print(\"얘들아 오늘 잘해보자!\")\n",
        "b = len(\"얘들아 오늘 잘해보자!\")\n",
        "print(b)\n",
        "input(\"이름을 입력하세요.\")\n",
        "\n",
        "a = range(7)\n",
        "print(list(a))"
      ]
    },
    {
      "cell_type": "code",
      "execution_count": null,
      "metadata": {
        "id": "D4_EyGOsuCMC"
      },
      "outputs": [],
      "source": []
    },
    {
      "cell_type": "code",
      "execution_count": null,
      "metadata": {
        "colab": {
          "base_uri": "https://localhost:8080/"
        },
        "id": "CkJSI9SSqfKq",
        "outputId": "9b4536d0-a090-48a3-d14f-f00c3f75a027"
      },
      "outputs": [
        {
          "name": "stdout",
          "output_type": "stream",
          "text": [
            "안녕하세요.\n",
            "안녕하세요.\n",
            "안녕하세요.\n"
          ]
        }
      ],
      "source": [
        "def print_3_times(): # 함수 이름 정의\n",
        "    print(\"안녕하세요.\") # 함수 내용\n",
        "    print(\"안녕하세요.\")\n",
        "    print(\"안녕하세요.\")\n",
        "\n",
        "print_3_times() # 함수 호출\n"
      ]
    },
    {
      "cell_type": "code",
      "execution_count": null,
      "metadata": {
        "colab": {
          "base_uri": "https://localhost:8080/"
        },
        "id": "GZCtoAMorOga",
        "outputId": "f462dcca-f5f5-4e79-8cb3-1bf362c39bbe"
      },
      "outputs": [
        {
          "name": "stdout",
          "output_type": "stream",
          "text": [
            "울산고등학교\n",
            "화이팅\n"
          ]
        }
      ],
      "source": [
        "def ulsan_fighting():\n",
        "  print(\"울산고등학교\\n화이팅\")\n",
        "\n",
        "ulsan_fighting()"
      ]
    },
    {
      "cell_type": "code",
      "execution_count": null,
      "metadata": {
        "colab": {
          "base_uri": "https://localhost:8080/"
        },
        "id": "IDi0z2cMsNU4",
        "outputId": "f39d762b-bf5c-47f1-8f4b-3ae38952e27b"
      },
      "outputs": [
        {
          "name": "stdout",
          "output_type": "stream",
          "text": [
            "안녕히 가세요.\n"
          ]
        }
      ],
      "source": [
        "def goodbye():\n",
        "  print(\"안녕히 가세요.\")\n",
        "\n",
        "goodbye()"
      ]
    },
    {
      "cell_type": "code",
      "execution_count": null,
      "metadata": {
        "colab": {
          "base_uri": "https://localhost:8080/"
        },
        "id": "AkREl6N-taoM",
        "outputId": "32a727e7-ae38-454b-8da7-b010133e6930"
      },
      "outputs": [
        {
          "name": "stdout",
          "output_type": "stream",
          "text": [
            "비트코인 매수\n"
          ]
        }
      ],
      "source": [
        "def buy():\n",
        "  print('비트코인 매수')\n",
        "\n",
        "buy()"
      ]
    },
    {
      "cell_type": "code",
      "execution_count": null,
      "metadata": {
        "colab": {
          "base_uri": "https://localhost:8080/"
        },
        "id": "krDjPbLttvvJ",
        "outputId": "2b94211f-b4eb-4f7e-c64f-754a07c038a6"
      },
      "outputs": [
        {
          "name": "stdout",
          "output_type": "stream",
          "text": [
            "2 * 1 = 2\n",
            "2 * 2 = 4\n",
            "2 * 3 = 6\n",
            "2 * 4 = 8\n",
            "2 * 5 = 10\n",
            "2 * 6 = 12\n",
            "2 * 7 = 14\n",
            "2 * 8 = 16\n",
            "2 * 9 = 18\n",
            "\n",
            "3 * 1 = 3\n",
            "3 * 2 = 6\n",
            "3 * 3 = 9\n",
            "3 * 4 = 12\n",
            "3 * 5 = 15\n",
            "3 * 6 = 18\n",
            "3 * 7 = 21\n",
            "3 * 8 = 24\n",
            "3 * 9 = 27\n",
            "\n",
            "4 * 1 = 4\n",
            "4 * 2 = 8\n",
            "4 * 3 = 12\n",
            "4 * 4 = 16\n",
            "4 * 5 = 20\n",
            "4 * 6 = 24\n",
            "4 * 7 = 28\n",
            "4 * 8 = 32\n",
            "4 * 9 = 36\n",
            "\n",
            "5 * 1 = 5\n",
            "5 * 2 = 10\n",
            "5 * 3 = 15\n",
            "5 * 4 = 20\n",
            "5 * 5 = 25\n",
            "5 * 6 = 30\n",
            "5 * 7 = 35\n",
            "5 * 8 = 40\n",
            "5 * 9 = 45\n",
            "\n",
            "6 * 1 = 6\n",
            "6 * 2 = 12\n",
            "6 * 3 = 18\n",
            "6 * 4 = 24\n",
            "6 * 5 = 30\n",
            "6 * 6 = 36\n",
            "6 * 7 = 42\n",
            "6 * 8 = 48\n",
            "6 * 9 = 54\n",
            "\n",
            "7 * 1 = 7\n",
            "7 * 2 = 14\n",
            "7 * 3 = 21\n",
            "7 * 4 = 28\n",
            "7 * 5 = 35\n",
            "7 * 6 = 42\n",
            "7 * 7 = 49\n",
            "7 * 8 = 56\n",
            "7 * 9 = 63\n",
            "\n",
            "8 * 1 = 8\n",
            "8 * 2 = 16\n",
            "8 * 3 = 24\n",
            "8 * 4 = 32\n",
            "8 * 5 = 40\n",
            "8 * 6 = 48\n",
            "8 * 7 = 56\n",
            "8 * 8 = 64\n",
            "8 * 9 = 72\n",
            "\n",
            "9 * 1 = 9\n",
            "9 * 2 = 18\n",
            "9 * 3 = 27\n",
            "9 * 4 = 36\n",
            "9 * 5 = 45\n",
            "9 * 6 = 54\n",
            "9 * 7 = 63\n",
            "9 * 8 = 72\n",
            "9 * 9 = 81\n",
            "\n"
          ]
        }
      ],
      "source": [
        "def gugudan():\n",
        "  for i in range(2,10):\n",
        "    for j in range(1,10):\n",
        "      print(f\"{i} * {j} = {i*j}\")\n",
        "    print()\n",
        "gugudan()\n"
      ]
    },
    {
      "cell_type": "code",
      "execution_count": null,
      "metadata": {
        "colab": {
          "base_uri": "https://localhost:8080/"
        },
        "id": "xKX0GgADvi77",
        "outputId": "c4f961c7-7e0a-4c38-be45-f3671651e91f"
      },
      "outputs": [
        {
          "name": "stdout",
          "output_type": "stream",
          "text": [
            "1부터 100사이의 정수 중에서 배수를 찾고 싶은 수를 입력하세요.100\n",
            "[100]\n"
          ]
        }
      ],
      "source": [
        "def multiplex(x):\n",
        "  multiplex_list = []\n",
        "  for m in range(1,101):\n",
        "    if m % x == 0 :\n",
        "      multiplex_list.append(m)\n",
        "    else :\n",
        "      continue\n",
        "  return multiplex_list\n",
        "num = int(input('1부터 100사이의 정수 중에서 배수를 찾고 싶은 수를 입력하세요.'))\n",
        "list1 = multiplex(num)\n",
        "print(list1)"
      ]
    },
    {
      "cell_type": "code",
      "execution_count": null,
      "metadata": {
        "colab": {
          "base_uri": "https://localhost:8080/"
        },
        "id": "Zpwu_dCKxFIp",
        "outputId": "f7fec2d4-3692-47b8-9f14-6c9c0fecbc07"
      },
      "outputs": [
        {
          "output_type": "execute_result",
          "data": {
            "text/plain": [
              "2424858401169875856987549316530261243529336396354700842715749979460646110058233651782392648030625575890603295838549136086203631494904372698578181999057212055535785846413969420066573092861481554378165635499319577948946469878800693106187103360224139995239288292467274991657581799887960732860730465294056429604010675825650845592134295845654185424392132561718318353026455262912039002664120813132000602020151818744862796534620281615341820385425346251471878908201301227337883132211649086124629581129201309548248991126780745470297556208250525153383428851713805456555419758707284753260768805845944423382917543868035509410367649517977378961396490420583560768554085728596839435423979501005167390976056828737759722931049053051870481354220566751757226315251920734049093559363656820097662644345104685665152444697669009659982518091310671058073959926600845011866653850725006741331610135998770449096045426206531544154144601729043078225608136613193686346346764203375001081246967670378990121777385901921245133042374777487279240176076181929206652760242551593468206588418766183401939736514661022447416367789422605988204789848476655904174023752533626768590363300938231129606313365312387913130971900390208938471907315110717317435321123464794906710193916413838207147074458529525935478113361841325520841044346267628381902449941524896332350384902526765982148700924154884023605222691782597459599121027544229955922681404443327840648118042191399221650956164672857148227101451532445295161873221075926687151309815858723796054292521542311108190618276056103071140889723197707702368244847779594197140241112042128900654662720100758519336991189420021569389659862373674109453168227154296233208845394442627758282640964050502230911632608683569869755423400072413157317525410032842653580093887735517690412593258359388487289802270353135756659547954667344672901471048389223259683469006995762263469036620522300662493285722212048473141061111827211648276284983691538501299996459350066613212712170474963890532178735800245974574640904674554123815017979113627519922145830691096868313633320304359164703825903963661604335411773033078697699311892617463175229334854531701631075383899708905233041291527887059381689504636267968336033244928031019352467588242769652345533099117594059102256248189810284600657855707971881794779733938869280438373216606816889288287015049782284899585369920877745590840887712363661997881545433844629800189205229597440143179700162824702134957418586285920953284900382720017357876988767296282790084172114532622647998154080918863914038958583660595208167281479883677535909771428614756103440615905873310606657147769597200148222567970379939256596381142850272187439045199365546037482887333248526026065549397730475314476322168067523034600032867511743419691437003992038152628324659432676263448764134014429405489180634364519282138519962363193701386950109467042340571843977537752976341094127822030600936793871334872293490903117072170466054983434825167266916722980296391441044563178977701723309785609111259614474247364528550386532388327264689711775604664427340228901835597557029992960492192464058200400988909295153551200837397817601282679220611104173652358509007521101053095620748168997861050130023817703319787079095235833374426177514286578246903083415169109359323812741314724620593271262917265094024216337214863533448529254632599541703878619604512594846124252613960262726215219134672211844311020666195270036284140614857902974771290503656870984782590335117218368984797972576852801418834170795097602013208317371156612874344638041764532057542786831351076365498540443813006372421380736034740771076764178132559828434447544678633583005046265334346831012385703067191550416222980088761154519553974935287498676582754658553261232252765802371799256016444945115393409561160793126126735836975302341046431089640850574341354122545220831810806852068691732327187184240511538962440151159519314143893886850233861037997459199145386272154940965985357257552760909210073432064000000000000000000000000000000000000000000000000000000000000000000000000000000000000000000000000000000000000000000000000000000000000000000000000000000000000000000000000000000000000000000000000000000000000000000000000000000000000000000000000000000000000000000000000000000000000000000000000000000000000000000000000000000000000000000000000000000000000000000000000000000000000000000000000000"
            ]
          },
          "metadata": {},
          "execution_count": 1
        }
      ],
      "source": [
        "def factorial(n) :\n",
        "  result = 1\n",
        "  for i in range(1, n+1):\n",
        "    result *= i\n",
        "  return result\n",
        "\n",
        "factorial(1558)"
      ]
    },
    {
      "cell_type": "markdown",
      "metadata": {
        "id": "IlR0KL6l4I4S"
      },
      "source": [
        "## 가변매개변수"
      ]
    },
    {
      "cell_type": "code",
      "execution_count": null,
      "metadata": {
        "colab": {
          "base_uri": "https://localhost:8080/"
        },
        "id": "ItJqdSw-zEHp",
        "outputId": "9db22c67-6c19-4b11-eb18-a1f1f741232b"
      },
      "outputs": [
        {
          "name": "stdout",
          "output_type": "stream",
          "text": [
            "안녕하세요\n",
            "사랑해요\n",
            "\n",
            "안녕하세요\n",
            "사랑해요\n",
            "\n",
            "안녕하세요\n",
            "사랑해요\n",
            "\n"
          ]
        }
      ],
      "source": [
        "def print_n_times(n,*values) :\n",
        "  for i in range(n) :\n",
        "    for value in values :\n",
        "      print(value)\n",
        "    print()\n",
        "\n",
        "print_n_times(3, \"안녕하세요\", \"사랑해요\")"
      ]
    },
    {
      "cell_type": "code",
      "execution_count": null,
      "metadata": {
        "colab": {
          "base_uri": "https://localhost:8080/"
        },
        "id": "5EncYLoJ3PSb",
        "outputId": "e3d5a9d7-f41f-4280-98b1-1c4e43115ec3"
      },
      "outputs": [
        {
          "name": "stdout",
          "output_type": "stream",
          "text": [
            "응\n",
            "애\n"
          ]
        }
      ],
      "source": [
        "def res(*args) :\n",
        "  for i in args :\n",
        "    print(i)\n",
        "\n",
        "res('응','애')"
      ]
    },
    {
      "cell_type": "markdown",
      "metadata": {
        "id": "0Cu7fGUt4TYB"
      },
      "source": [
        "## 기본매개변수(맨 앞에 올 수 없음)\n",
        "\n",
        "\n"
      ]
    },
    {
      "cell_type": "code",
      "execution_count": null,
      "metadata": {
        "colab": {
          "base_uri": "https://localhost:8080/"
        },
        "id": "PzA6FIpU3z8K",
        "outputId": "c8707af3-21e9-4146-a688-cd0ee2444d09"
      },
      "outputs": [
        {
          "name": "stdout",
          "output_type": "stream",
          "text": [
            "15\n",
            "6\n"
          ]
        }
      ],
      "source": [
        "def value_times(value,times=2) :\n",
        "  print(times*value)\n",
        "\n",
        "value_times(3, 5)\n",
        "value_times(3)"
      ]
    },
    {
      "cell_type": "code",
      "execution_count": null,
      "metadata": {
        "colab": {
          "base_uri": "https://localhost:8080/"
        },
        "id": "l8lDLKla4HMc",
        "outputId": "f541e608-b2da-4ccb-ca69-4191ec2f3951"
      },
      "outputs": [
        {
          "name": "stdout",
          "output_type": "stream",
          "text": [
            "---예매내역---\n",
            "영화관을 선택하세요.\n",
            "영화관 :  메가박스\n",
            "영화를 선택하세요.\n",
            "영화 :  해리포터\n"
          ]
        }
      ],
      "source": [
        "def res(movie, cinema = 'CGV') :\n",
        "  print('---예매내역---\\n영화관을 선택하세요.')\n",
        "  print('영화관 : ', cinema)\n",
        "  print('영화를 선택하세요.')\n",
        "  print('영화 : ', movie)\n",
        "\n",
        "res('해리포터','메가박스')\n"
      ]
    },
    {
      "cell_type": "markdown",
      "metadata": {
        "id": "tY_brw7z5_ai"
      },
      "source": [
        "## 키워드매개변수(순서 변경 가능)"
      ]
    },
    {
      "cell_type": "code",
      "execution_count": null,
      "metadata": {
        "colab": {
          "base_uri": "https://localhost:8080/",
          "height": 184
        },
        "id": "9EgjalOW4qXv",
        "outputId": "38802111-c19b-4a80-9f7a-076708565627"
      },
      "outputs": [
        {
          "output_type": "error",
          "ename": "TypeError",
          "evalue": "test() missing 1 required positional argument: 'a'",
          "traceback": [
            "\u001b[0;31m---------------------------------------------------------------------------\u001b[0m",
            "\u001b[0;31mTypeError\u001b[0m                                 Traceback (most recent call last)",
            "\u001b[0;32m<ipython-input-1-569cb37ea351>\u001b[0m in \u001b[0;36m<cell line: 4>\u001b[0;34m()\u001b[0m\n\u001b[1;32m      2\u001b[0m   \u001b[0mprint\u001b[0m\u001b[0;34m(\u001b[0m\u001b[0ma\u001b[0m\u001b[0;34m+\u001b[0m\u001b[0mb\u001b[0m\u001b[0;34m+\u001b[0m\u001b[0mc\u001b[0m\u001b[0;34m)\u001b[0m\u001b[0;34m\u001b[0m\u001b[0;34m\u001b[0m\u001b[0m\n\u001b[1;32m      3\u001b[0m \u001b[0;34m\u001b[0m\u001b[0m\n\u001b[0;32m----> 4\u001b[0;31m \u001b[0mtest\u001b[0m\u001b[0;34m(\u001b[0m\u001b[0;34m)\u001b[0m\u001b[0;34m\u001b[0m\u001b[0;34m\u001b[0m\u001b[0m\n\u001b[0m",
            "\u001b[0;31mTypeError\u001b[0m: test() missing 1 required positional argument: 'a'"
          ]
        }
      ],
      "source": [
        "def test(a,b=10,c=100) :\n",
        "  print(a+b+c)\n",
        "\n",
        "test()"
      ]
    },
    {
      "cell_type": "markdown",
      "metadata": {
        "id": "aIqxC2tp6oHd"
      },
      "source": [
        "# 모듈"
      ]
    },
    {
      "cell_type": "code",
      "execution_count": null,
      "metadata": {
        "colab": {
          "base_uri": "https://localhost:8080/"
        },
        "id": "HZy-4kWN6Iye",
        "outputId": "8dba4806-451a-4028-83f2-f3429f72af72"
      },
      "outputs": [
        {
          "data": {
            "text/plain": [
              "0.7711446854389281"
            ]
          },
          "execution_count": 71,
          "metadata": {},
          "output_type": "execute_result"
        }
      ],
      "source": [
        "import random\n",
        "random.random()"
      ]
    },
    {
      "cell_type": "code",
      "execution_count": null,
      "metadata": {
        "colab": {
          "base_uri": "https://localhost:8080/"
        },
        "id": "p_5dybpY6-x8",
        "outputId": "8df37df0-ef74-4abe-a149-3b30d08db986"
      },
      "outputs": [
        {
          "data": {
            "text/plain": [
              "15"
            ]
          },
          "execution_count": 89,
          "metadata": {},
          "output_type": "execute_result"
        }
      ],
      "source": [
        "random.randrange(0,51, 3)"
      ]
    },
    {
      "cell_type": "code",
      "execution_count": null,
      "metadata": {
        "colab": {
          "base_uri": "https://localhost:8080/",
          "height": 35
        },
        "id": "z3cYfFFm7St7",
        "outputId": "a212aeff-b1ea-44da-a209-b1a5d9c3cb21"
      },
      "outputs": [
        {
          "data": {
            "application/vnd.google.colaboratory.intrinsic+json": {
              "type": "string"
            },
            "text/plain": [
              "'i'"
            ]
          },
          "execution_count": 91,
          "metadata": {},
          "output_type": "execute_result"
        }
      ],
      "source": [
        "random.choice('rufusbaboddonggemalmijal')"
      ]
    },
    {
      "cell_type": "code",
      "execution_count": null,
      "metadata": {
        "colab": {
          "background_save": true,
          "base_uri": "https://localhost:8080/"
        },
        "id": "KL8wV6oy7iIM",
        "outputId": "58980122-7222-4602-f70a-7611db672d2d"
      },
      "outputs": [
        {
          "name": "stdout",
          "output_type": "stream",
          "text": [
            "오늘은 2024-06-11 입니다.\n",
            "우리가 사귄지 100일째 되는 날은 2024-09-19 입니다.\n",
            "근데 별로 안 궁금합니다.\n"
          ]
        }
      ],
      "source": [
        "import datetime\n",
        "today = datetime.date.today()\n",
        "f_day = datetime.timedelta(days=100)\n",
        "a_day = today+f_day\n",
        "\n",
        "print('오늘은',today, '입니다.')\n",
        "print('우리가 사귄지 100일째 되는 날은', a_day, '입니다.')\n",
        "print('근데 별로 안 궁금합니다.')"
      ]
    },
    {
      "cell_type": "markdown",
      "metadata": {
        "id": "CP9RojZM_YeR"
      },
      "source": [
        "# 오류"
      ]
    },
    {
      "cell_type": "code",
      "execution_count": null,
      "metadata": {
        "colab": {
          "base_uri": "https://localhost:8080/",
          "height": 110
        },
        "id": "rSK3ALfZ8ltt",
        "outputId": "36c8a6e1-b4c2-459c-bf84-0035f9e3b9e0"
      },
      "outputs": [
        {
          "ename": "SyntaxError",
          "evalue": "unterminated string literal (detected at line 1) (<ipython-input-98-923666da25a4>, line 1)",
          "output_type": "error",
          "traceback": [
            "\u001b[0;36m  File \u001b[0;32m\"<ipython-input-98-923666da25a4>\"\u001b[0;36m, line \u001b[0;32m1\u001b[0m\n\u001b[0;31m    print('히히 오류 발사)\u001b[0m\n\u001b[0m          ^\u001b[0m\n\u001b[0;31mSyntaxError\u001b[0m\u001b[0;31m:\u001b[0m unterminated string literal (detected at line 1)\n"
          ]
        }
      ],
      "source": [
        "print('히히 오류 발사)\n",
        "# SyntaxError : 구문 오류"
      ]
    },
    {
      "cell_type": "code",
      "execution_count": null,
      "metadata": {
        "colab": {
          "base_uri": "https://localhost:8080/",
          "height": 184
        },
        "id": "Ysg__PYA_c-Z",
        "outputId": "b1b08d77-daf0-442a-ffa5-1326afbc8ca7"
      },
      "outputs": [
        {
          "name": "stdout",
          "output_type": "stream",
          "text": [
            "히히 오류 발사\n"
          ]
        },
        {
          "ename": "NameError",
          "evalue": "name 'list_a' is not defined",
          "output_type": "error",
          "traceback": [
            "\u001b[0;31m---------------------------------------------------------------------------\u001b[0m",
            "\u001b[0;31mNameError\u001b[0m                                 Traceback (most recent call last)",
            "\u001b[0;32m<ipython-input-99-8a8fbc187379>\u001b[0m in \u001b[0;36m<cell line: 2>\u001b[0;34m()\u001b[0m\n\u001b[1;32m      1\u001b[0m \u001b[0mprint\u001b[0m\u001b[0;34m(\u001b[0m\u001b[0;34m'히히 오류 발사'\u001b[0m\u001b[0;34m)\u001b[0m\u001b[0;34m\u001b[0m\u001b[0;34m\u001b[0m\u001b[0m\n\u001b[0;32m----> 2\u001b[0;31m \u001b[0mlist_a\u001b[0m\u001b[0;34m[\u001b[0m\u001b[0;36m1\u001b[0m\u001b[0;34m]\u001b[0m\u001b[0;34m\u001b[0m\u001b[0;34m\u001b[0m\u001b[0m\n\u001b[0m",
            "\u001b[0;31mNameError\u001b[0m: name 'list_a' is not defined"
          ]
        }
      ],
      "source": [
        "print('히히 오류 발사')\n",
        "list_a[1]\n",
        "# NameError : 정의되지 않음"
      ]
    },
    {
      "cell_type": "code",
      "execution_count": null,
      "metadata": {
        "colab": {
          "base_uri": "https://localhost:8080/"
        },
        "id": "UBEK8VIw_p6a",
        "outputId": "12caf227-a82e-4e20-ea67-66b19147b6a0"
      },
      "outputs": [
        {
          "name": "stdout",
          "output_type": "stream",
          "text": [
            "#프로그램이 시작되었습니다!\n"
          ]
        },
        {
          "data": {
            "text/plain": [
              "1"
            ]
          },
          "execution_count": 100,
          "metadata": {},
          "output_type": "execute_result"
        }
      ],
      "source": [
        "print('#프로그램이 시작되었습니다!')\n",
        "list_a= [1,2,3,4,5]\n",
        "\n",
        "list_a[0]\n",
        "\n"
      ]
    },
    {
      "cell_type": "code",
      "execution_count": null,
      "metadata": {
        "colab": {
          "base_uri": "https://localhost:8080/"
        },
        "id": "CDsczB8__6U7",
        "outputId": "26de97cb-dbfe-43ea-bb74-cc84b18c28f8"
      },
      "outputs": [
        {
          "name": "stdout",
          "output_type": "stream",
          "text": [
            "정수 입력3cm\n",
            "정수를 입력하지 않았습니다.\n"
          ]
        }
      ],
      "source": [
        "r = input('정수 입력')\n",
        "\n",
        "if r.isdigit() :\n",
        "  r = int(r)\n",
        "  print('원의 반지름 : ', r)\n",
        "  print('원의 둘레 : ', 2 * 3.14 * r)\n",
        "  print('원의 넓이 : ',3.14 * r * r)\n",
        "\n",
        "else :\n",
        "  print('정수를 입력하지 않았습니다.')\n",
        "\n"
      ]
    },
    {
      "cell_type": "code",
      "execution_count": null,
      "metadata": {
        "colab": {
          "base_uri": "https://localhost:8080/"
        },
        "id": "RdyP7okJASVb",
        "outputId": "78c89d14-52be-4898-c526-aac3e92e7b27"
      },
      "outputs": [
        {
          "name": "stdout",
          "output_type": "stream",
          "text": [
            "정수를 입력하세요 : 정수\n",
            "무언가 잘못되었습니다.\n"
          ]
        }
      ],
      "source": [
        "try :\n",
        "  r = int(input('정수를 입력하세요 : '))\n",
        "  print('원의 반지름 : ', r)\n",
        "  print('원의 둘레 : ', 2 * 3.14 * r)\n",
        "  print('원의 넓이 : ',3.14 * r * r)\n",
        "\n",
        "except :\n",
        "  print('무언가 잘못되었습니다.')"
      ]
    },
    {
      "cell_type": "code",
      "execution_count": null,
      "metadata": {
        "id": "4syJBKYiB5pJ"
      },
      "outputs": [],
      "source": []
    },
    {
      "cell_type": "code",
      "execution_count": null,
      "metadata": {
        "colab": {
          "base_uri": "https://localhost:8080/",
          "height": 373
        },
        "id": "YL1mapHaD8dI",
        "outputId": "7e3a1710-50a5-4db7-9a16-966ce7964db6"
      },
      "outputs": [
        {
          "name": "stdout",
          "output_type": "stream",
          "text": [
            "타자 연습 게임에 오신 것을 환영합니다!\n",
            "다음 문장을 입력하세요:\n",
            "이게 무슨 헛소린가 싶어 난 청송콩찰떡이 좋다고 했지\n"
          ]
        },
        {
          "ename": "KeyboardInterrupt",
          "evalue": "Interrupted by user",
          "output_type": "error",
          "traceback": [
            "\u001b[0;31m---------------------------------------------------------------------------\u001b[0m",
            "\u001b[0;31mKeyboardInterrupt\u001b[0m                         Traceback (most recent call last)",
            "\u001b[0;32m<ipython-input-120-6a8184554cec>\u001b[0m in \u001b[0;36m<cell line: 32>\u001b[0;34m()\u001b[0m\n\u001b[1;32m     31\u001b[0m \u001b[0;34m\u001b[0m\u001b[0m\n\u001b[1;32m     32\u001b[0m \u001b[0;32mif\u001b[0m \u001b[0m__name__\u001b[0m \u001b[0;34m==\u001b[0m \u001b[0;34m\"__main__\"\u001b[0m\u001b[0;34m:\u001b[0m\u001b[0;34m\u001b[0m\u001b[0;34m\u001b[0m\u001b[0m\n\u001b[0;32m---> 33\u001b[0;31m     \u001b[0mtyping_game\u001b[0m\u001b[0;34m(\u001b[0m\u001b[0;34m)\u001b[0m\u001b[0;34m\u001b[0m\u001b[0;34m\u001b[0m\u001b[0m\n\u001b[0m",
            "\u001b[0;32m<ipython-input-120-6a8184554cec>\u001b[0m in \u001b[0;36mtyping_game\u001b[0;34m()\u001b[0m\n\u001b[1;32m     19\u001b[0m \u001b[0;34m\u001b[0m\u001b[0m\n\u001b[1;32m     20\u001b[0m     \u001b[0mstart_time\u001b[0m \u001b[0;34m=\u001b[0m \u001b[0mtime\u001b[0m\u001b[0;34m.\u001b[0m\u001b[0mtime\u001b[0m\u001b[0;34m(\u001b[0m\u001b[0;34m)\u001b[0m\u001b[0;34m\u001b[0m\u001b[0;34m\u001b[0m\u001b[0m\n\u001b[0;32m---> 21\u001b[0;31m     \u001b[0muser_input\u001b[0m \u001b[0;34m=\u001b[0m \u001b[0minput\u001b[0m\u001b[0;34m(\u001b[0m\u001b[0;34m\"입력: \"\u001b[0m\u001b[0;34m)\u001b[0m\u001b[0;34m\u001b[0m\u001b[0;34m\u001b[0m\u001b[0m\n\u001b[0m\u001b[1;32m     22\u001b[0m     \u001b[0mend_time\u001b[0m \u001b[0;34m=\u001b[0m \u001b[0mtime\u001b[0m\u001b[0;34m.\u001b[0m\u001b[0mtime\u001b[0m\u001b[0;34m(\u001b[0m\u001b[0;34m)\u001b[0m\u001b[0;34m\u001b[0m\u001b[0;34m\u001b[0m\u001b[0m\n\u001b[1;32m     23\u001b[0m \u001b[0;34m\u001b[0m\u001b[0m\n",
            "\u001b[0;32m/usr/local/lib/python3.10/dist-packages/ipykernel/kernelbase.py\u001b[0m in \u001b[0;36mraw_input\u001b[0;34m(self, prompt)\u001b[0m\n\u001b[1;32m    849\u001b[0m                 \u001b[0;34m\"raw_input was called, but this frontend does not support input requests.\"\u001b[0m\u001b[0;34m\u001b[0m\u001b[0;34m\u001b[0m\u001b[0m\n\u001b[1;32m    850\u001b[0m             )\n\u001b[0;32m--> 851\u001b[0;31m         return self._input_request(str(prompt),\n\u001b[0m\u001b[1;32m    852\u001b[0m             \u001b[0mself\u001b[0m\u001b[0;34m.\u001b[0m\u001b[0m_parent_ident\u001b[0m\u001b[0;34m,\u001b[0m\u001b[0;34m\u001b[0m\u001b[0;34m\u001b[0m\u001b[0m\n\u001b[1;32m    853\u001b[0m             \u001b[0mself\u001b[0m\u001b[0;34m.\u001b[0m\u001b[0m_parent_header\u001b[0m\u001b[0;34m,\u001b[0m\u001b[0;34m\u001b[0m\u001b[0;34m\u001b[0m\u001b[0m\n",
            "\u001b[0;32m/usr/local/lib/python3.10/dist-packages/ipykernel/kernelbase.py\u001b[0m in \u001b[0;36m_input_request\u001b[0;34m(self, prompt, ident, parent, password)\u001b[0m\n\u001b[1;32m    893\u001b[0m             \u001b[0;32mexcept\u001b[0m \u001b[0mKeyboardInterrupt\u001b[0m\u001b[0;34m:\u001b[0m\u001b[0;34m\u001b[0m\u001b[0;34m\u001b[0m\u001b[0m\n\u001b[1;32m    894\u001b[0m                 \u001b[0;31m# re-raise KeyboardInterrupt, to truncate traceback\u001b[0m\u001b[0;34m\u001b[0m\u001b[0;34m\u001b[0m\u001b[0m\n\u001b[0;32m--> 895\u001b[0;31m                 \u001b[0;32mraise\u001b[0m \u001b[0mKeyboardInterrupt\u001b[0m\u001b[0;34m(\u001b[0m\u001b[0;34m\"Interrupted by user\"\u001b[0m\u001b[0;34m)\u001b[0m \u001b[0;32mfrom\u001b[0m \u001b[0;32mNone\u001b[0m\u001b[0;34m\u001b[0m\u001b[0;34m\u001b[0m\u001b[0m\n\u001b[0m\u001b[1;32m    896\u001b[0m             \u001b[0;32mexcept\u001b[0m \u001b[0mException\u001b[0m \u001b[0;32mas\u001b[0m \u001b[0me\u001b[0m\u001b[0;34m:\u001b[0m\u001b[0;34m\u001b[0m\u001b[0;34m\u001b[0m\u001b[0m\n\u001b[1;32m    897\u001b[0m                 \u001b[0mself\u001b[0m\u001b[0;34m.\u001b[0m\u001b[0mlog\u001b[0m\u001b[0;34m.\u001b[0m\u001b[0mwarning\u001b[0m\u001b[0;34m(\u001b[0m\u001b[0;34m\"Invalid Message:\"\u001b[0m\u001b[0;34m,\u001b[0m \u001b[0mexc_info\u001b[0m\u001b[0;34m=\u001b[0m\u001b[0;32mTrue\u001b[0m\u001b[0;34m)\u001b[0m\u001b[0;34m\u001b[0m\u001b[0;34m\u001b[0m\u001b[0m\n",
            "\u001b[0;31mKeyboardInterrupt\u001b[0m: Interrupted by user"
          ]
        }
      ],
      "source": [
        "import time\n",
        "import random\n",
        "\n",
        "def typing_game():\n",
        "    sentences = [\n",
        "        \"동해물과 백두산이 마르고 닳도록 하느님이 보우하사 우리나라 만세\",\n",
        "        \"간장공장공장장은 강공장장이고 된장공장공장장은 장공장장이다.\",\n",
        "        \"제주도에서 저기 저 돌하르방코는 아들 날 돌 하르방 코인가 딸 날 돌하르방 코인가 \",\n",
        "        \"상담담당 선생님 성 선생님이 내게 말했어. 자기는 참치 꽁치찜을 좋아한다고\",\n",
        "        \"이게 무슨 헛소린가 싶어 난 청송콩찰떡이 좋다고 했지\"\n",
        "    ]\n",
        "\n",
        "    sentence_to_type = random.choice(sentences)\n",
        "    print(\"타자 연습 게임에 오신 것을 환영합니다!\")\n",
        "    print(\"다음 문장을 입력하세요:\")\n",
        "    print(sentence_to_type)\n",
        "\n",
        "    input(\"준비되면 Enter 키를 누르세요...\")\n",
        "\n",
        "    start_time = time.time()\n",
        "    user_input = input(\"입력: \")\n",
        "    end_time = time.time()\n",
        "\n",
        "    time_taken = end_time - start_time\n",
        "    words_per_minute = (len(user_input.split()) / time_taken) * 60\n",
        "    accuracy = sum(1 for a, b in zip(sentence_to_type, user_input) if a == b) / len(sentence_to_type)\n",
        "\n",
        "    print(f\"\\n걸린 시간: {time_taken:.2f} 초\")\n",
        "    print(f\"분당 타수: {words_per_minute:.2f} WPM\")\n",
        "    print(f\"정확도: {accuracy * 100:.2f}%\")\n",
        "\n",
        "if __name__ == \"__main__\":\n",
        "    typing_game()"
      ]
    },
    {
      "cell_type": "code",
      "execution_count": null,
      "metadata": {
        "colab": {
          "background_save": true,
          "base_uri": "https://localhost:8080/"
        },
        "id": "koHsqYVcEvIR",
        "outputId": "33cd8208-1a9b-48e3-85aa-1f3cd2c53299"
      },
      "outputs": [
        {
          "name": "stdout",
          "output_type": "stream",
          "text": [
            "숫자 야구 게임을 시작합니다!\n",
            "0부터 9까지의 중복되지 않는 세 자리 숫자를 맞춰보세요.\n",
            "0 스트라이크, 1 볼\n",
            "1 스트라이크, 0 볼\n",
            "0 스트라이크, 1 볼\n",
            "잘못된 입력입니다. 서로 다른 세 자리 숫자를 입력하세요.\n",
            "1 스트라이크, 0 볼\n"
          ]
        }
      ],
      "source": [
        "import random\n",
        "\n",
        "def generate_number():\n",
        "    digits = list(range(10))\n",
        "    random.shuffle(digits)\n",
        "    return digits[:3]\n",
        "\n",
        "def get_feedback(guess, target):\n",
        "    strikes = sum(1 for i in range(3) if guess[i] == target[i])\n",
        "    balls = sum(1 for i in range(3) if guess[i] in target and guess[i] != target[i])\n",
        "    return strikes, balls\n",
        "\n",
        "def valid_input(guess):\n",
        "    return len(guess) == 3 and len(set(guess)) == 3 and guess.isdigit()\n",
        "\n",
        "def play_game():\n",
        "    target = generate_number()\n",
        "    attempts = 0\n",
        "\n",
        "    print(\"숫자 야구 게임을 시작합니다!\")\n",
        "    print(\"0부터 9까지의 중복되지 않는 세 자리 숫자를 맞춰보세요.\")\n",
        "\n",
        "    while True:\n",
        "        guess = input(\"숫자를 입력하세요: \")\n",
        "\n",
        "        if not valid_input(guess):\n",
        "            print(\"잘못된 입력입니다. 서로 다른 세 자리 숫자를 입력하세요.\")\n",
        "            continue\n",
        "\n",
        "        guess = list(map(int, guess))\n",
        "        attempts += 1\n",
        "        strikes, balls = get_feedback(guess, target)\n",
        "\n",
        "        print(f\"{strikes} 스트라이크, {balls} 볼\")\n",
        "\n",
        "        if strikes == 3:\n",
        "            print(f\"축하합니다! {attempts}번 만에 숫자를 맞췄습니다.\")\n",
        "            break\n",
        "\n",
        "if __name__ == \"__main__\":\n",
        "    play_game()"
      ]
    }
  ],
  "metadata": {
    "colab": {
      "provenance": [],
      "toc_visible": true,
      "authorship_tag": "ABX9TyOT341gV59nB5TTbp33M743",
      "include_colab_link": true
    },
    "kernelspec": {
      "display_name": "Python 3",
      "name": "python3"
    },
    "language_info": {
      "name": "python"
    }
  },
  "nbformat": 4,
  "nbformat_minor": 0
}